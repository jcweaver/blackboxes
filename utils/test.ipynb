{
 "metadata": {
  "language_info": {
   "codemirror_mode": {
    "name": "ipython",
    "version": 3
   },
   "file_extension": ".py",
   "mimetype": "text/x-python",
   "name": "python",
   "nbconvert_exporter": "python",
   "pygments_lexer": "ipython3",
   "version": "3.8.5"
  },
  "orig_nbformat": 2,
  "kernelspec": {
   "name": "python3",
   "display_name": "Python 3.8.5 64-bit ('base': conda)",
   "metadata": {
    "interpreter": {
     "hash": "d230cf8de72e867e5717d0f5cf531d71189c7e5bd77bc2a42cd05122b296a561"
    }
   }
  }
 },
 "nbformat": 4,
 "nbformat_minor": 2,
 "cells": [
  {
   "cell_type": "code",
   "execution_count": 1,
   "metadata": {},
   "outputs": [],
   "source": [
    "import tensorflow as tf\n",
    "import numpy as np\n",
    "import transform_data\n",
    "\n",
    "np.random.seed(42)\n",
    "tf.random.set_seed(42)\n",
    "\n",
    "tf.get_logger().setLevel('ERROR')\n",
    "physical_devices = tf.config.list_physical_devices('GPU')\n",
    "\n",
    "for pd_dev in range(len(physical_devices)):\n",
    "    tf.config.experimental.set_memory_growth(physical_devices[pd_dev], True)\n",
    "\n",
    "\n",
    "def get_GPU_count():\n",
    "    GPU_count = len(tf.config.list_physical_devices('GPU'))\n",
    "    return GPU_count"
   ]
  },
  {
   "cell_type": "code",
   "execution_count": 2,
   "metadata": {},
   "outputs": [
    {
     "output_type": "stream",
     "name": "stdout",
     "text": [
      "1\n"
     ]
    }
   ],
   "source": [
    "print(get_GPU_count())"
   ]
  },
  {
   "cell_type": "code",
   "execution_count": 127,
   "metadata": {},
   "outputs": [
    {
     "output_type": "display_data",
     "data": {
      "text/plain": "<Figure size 432x288 with 1 Axes>",
      "image/svg+xml": "<?xml version=\"1.0\" encoding=\"utf-8\" standalone=\"no\"?>\r\n<!DOCTYPE svg PUBLIC \"-//W3C//DTD SVG 1.1//EN\"\r\n  \"http://www.w3.org/Graphics/SVG/1.1/DTD/svg11.dtd\">\r\n<!-- Created with matplotlib (https://matplotlib.org/) -->\r\n<svg height=\"262.19625pt\" version=\"1.1\" viewBox=\"0 0 398.50625 262.19625\" width=\"398.50625pt\" xmlns=\"http://www.w3.org/2000/svg\" xmlns:xlink=\"http://www.w3.org/1999/xlink\">\r\n <metadata>\r\n  <rdf:RDF xmlns:cc=\"http://creativecommons.org/ns#\" xmlns:dc=\"http://purl.org/dc/elements/1.1/\" xmlns:rdf=\"http://www.w3.org/1999/02/22-rdf-syntax-ns#\">\r\n   <cc:Work>\r\n    <dc:type rdf:resource=\"http://purl.org/dc/dcmitype/StillImage\"/>\r\n    <dc:date>2021-03-19T22:14:22.961593</dc:date>\r\n    <dc:format>image/svg+xml</dc:format>\r\n    <dc:creator>\r\n     <cc:Agent>\r\n      <dc:title>Matplotlib v3.3.2, https://matplotlib.org/</dc:title>\r\n     </cc:Agent>\r\n    </dc:creator>\r\n   </cc:Work>\r\n  </rdf:RDF>\r\n </metadata>\r\n <defs>\r\n  <style type=\"text/css\">*{stroke-linecap:butt;stroke-linejoin:round;}</style>\r\n </defs>\r\n <g id=\"figure_1\">\r\n  <g id=\"patch_1\">\r\n   <path d=\"M 0 262.19625 \r\nL 398.50625 262.19625 \r\nL 398.50625 0 \r\nL 0 0 \r\nz\r\n\" style=\"fill:none;\"/>\r\n  </g>\r\n  <g id=\"axes_1\">\r\n   <g id=\"patch_2\">\r\n    <path d=\"M 56.50625 224.64 \r\nL 391.30625 224.64 \r\nL 391.30625 7.2 \r\nL 56.50625 7.2 \r\nz\r\n\" style=\"fill:#ffffff;\"/>\r\n   </g>\r\n   <g id=\"matplotlib.axis_1\">\r\n    <g id=\"xtick_1\">\r\n     <g id=\"line2d_1\">\r\n      <path clip-path=\"url(#p85954c1967)\" d=\"M 71.724432 224.64 \r\nL 71.724432 7.2 \r\n\" style=\"fill:none;stroke:#b0b0b0;stroke-linecap:square;stroke-width:0.8;\"/>\r\n     </g>\r\n     <g id=\"line2d_2\">\r\n      <defs>\r\n       <path d=\"M 0 0 \r\nL 0 3.5 \r\n\" id=\"mbf8d3be96a\" style=\"stroke:#000000;stroke-width:0.8;\"/>\r\n      </defs>\r\n      <g>\r\n       <use style=\"stroke:#000000;stroke-width:0.8;\" x=\"71.724432\" xlink:href=\"#mbf8d3be96a\" y=\"224.64\"/>\r\n      </g>\r\n     </g>\r\n     <g id=\"text_1\">\r\n      <!-- 0 -->\r\n      <g transform=\"translate(68.543182 239.238437)scale(0.1 -0.1)\">\r\n       <defs>\r\n        <path d=\"M 31.78125 66.40625 \r\nQ 24.171875 66.40625 20.328125 58.90625 \r\nQ 16.5 51.421875 16.5 36.375 \r\nQ 16.5 21.390625 20.328125 13.890625 \r\nQ 24.171875 6.390625 31.78125 6.390625 \r\nQ 39.453125 6.390625 43.28125 13.890625 \r\nQ 47.125 21.390625 47.125 36.375 \r\nQ 47.125 51.421875 43.28125 58.90625 \r\nQ 39.453125 66.40625 31.78125 66.40625 \r\nz\r\nM 31.78125 74.21875 \r\nQ 44.046875 74.21875 50.515625 64.515625 \r\nQ 56.984375 54.828125 56.984375 36.375 \r\nQ 56.984375 17.96875 50.515625 8.265625 \r\nQ 44.046875 -1.421875 31.78125 -1.421875 \r\nQ 19.53125 -1.421875 13.0625 8.265625 \r\nQ 6.59375 17.96875 6.59375 36.375 \r\nQ 6.59375 54.828125 13.0625 64.515625 \r\nQ 19.53125 74.21875 31.78125 74.21875 \r\nz\r\n\" id=\"DejaVuSans-48\"/>\r\n       </defs>\r\n       <use xlink:href=\"#DejaVuSans-48\"/>\r\n      </g>\r\n     </g>\r\n    </g>\r\n    <g id=\"xtick_2\">\r\n     <g id=\"line2d_3\">\r\n      <path clip-path=\"url(#p85954c1967)\" d=\"M 110.745411 224.64 \r\nL 110.745411 7.2 \r\n\" style=\"fill:none;stroke:#b0b0b0;stroke-linecap:square;stroke-width:0.8;\"/>\r\n     </g>\r\n     <g id=\"line2d_4\">\r\n      <g>\r\n       <use style=\"stroke:#000000;stroke-width:0.8;\" x=\"110.745411\" xlink:href=\"#mbf8d3be96a\" y=\"224.64\"/>\r\n      </g>\r\n     </g>\r\n     <g id=\"text_2\">\r\n      <!-- 5 -->\r\n      <g transform=\"translate(107.564161 239.238437)scale(0.1 -0.1)\">\r\n       <defs>\r\n        <path d=\"M 10.796875 72.90625 \r\nL 49.515625 72.90625 \r\nL 49.515625 64.59375 \r\nL 19.828125 64.59375 \r\nL 19.828125 46.734375 \r\nQ 21.96875 47.46875 24.109375 47.828125 \r\nQ 26.265625 48.1875 28.421875 48.1875 \r\nQ 40.625 48.1875 47.75 41.5 \r\nQ 54.890625 34.8125 54.890625 23.390625 \r\nQ 54.890625 11.625 47.5625 5.09375 \r\nQ 40.234375 -1.421875 26.90625 -1.421875 \r\nQ 22.3125 -1.421875 17.546875 -0.640625 \r\nQ 12.796875 0.140625 7.71875 1.703125 \r\nL 7.71875 11.625 \r\nQ 12.109375 9.234375 16.796875 8.0625 \r\nQ 21.484375 6.890625 26.703125 6.890625 \r\nQ 35.15625 6.890625 40.078125 11.328125 \r\nQ 45.015625 15.765625 45.015625 23.390625 \r\nQ 45.015625 31 40.078125 35.4375 \r\nQ 35.15625 39.890625 26.703125 39.890625 \r\nQ 22.75 39.890625 18.8125 39.015625 \r\nQ 14.890625 38.140625 10.796875 36.28125 \r\nz\r\n\" id=\"DejaVuSans-53\"/>\r\n       </defs>\r\n       <use xlink:href=\"#DejaVuSans-53\"/>\r\n      </g>\r\n     </g>\r\n    </g>\r\n    <g id=\"xtick_3\">\r\n     <g id=\"line2d_5\">\r\n      <path clip-path=\"url(#p85954c1967)\" d=\"M 149.76639 224.64 \r\nL 149.76639 7.2 \r\n\" style=\"fill:none;stroke:#b0b0b0;stroke-linecap:square;stroke-width:0.8;\"/>\r\n     </g>\r\n     <g id=\"line2d_6\">\r\n      <g>\r\n       <use style=\"stroke:#000000;stroke-width:0.8;\" x=\"149.76639\" xlink:href=\"#mbf8d3be96a\" y=\"224.64\"/>\r\n      </g>\r\n     </g>\r\n     <g id=\"text_3\">\r\n      <!-- 10 -->\r\n      <g transform=\"translate(143.40389 239.238437)scale(0.1 -0.1)\">\r\n       <defs>\r\n        <path d=\"M 12.40625 8.296875 \r\nL 28.515625 8.296875 \r\nL 28.515625 63.921875 \r\nL 10.984375 60.40625 \r\nL 10.984375 69.390625 \r\nL 28.421875 72.90625 \r\nL 38.28125 72.90625 \r\nL 38.28125 8.296875 \r\nL 54.390625 8.296875 \r\nL 54.390625 0 \r\nL 12.40625 0 \r\nz\r\n\" id=\"DejaVuSans-49\"/>\r\n       </defs>\r\n       <use xlink:href=\"#DejaVuSans-49\"/>\r\n       <use x=\"63.623047\" xlink:href=\"#DejaVuSans-48\"/>\r\n      </g>\r\n     </g>\r\n    </g>\r\n    <g id=\"xtick_4\">\r\n     <g id=\"line2d_7\">\r\n      <path clip-path=\"url(#p85954c1967)\" d=\"M 188.787369 224.64 \r\nL 188.787369 7.2 \r\n\" style=\"fill:none;stroke:#b0b0b0;stroke-linecap:square;stroke-width:0.8;\"/>\r\n     </g>\r\n     <g id=\"line2d_8\">\r\n      <g>\r\n       <use style=\"stroke:#000000;stroke-width:0.8;\" x=\"188.787369\" xlink:href=\"#mbf8d3be96a\" y=\"224.64\"/>\r\n      </g>\r\n     </g>\r\n     <g id=\"text_4\">\r\n      <!-- 15 -->\r\n      <g transform=\"translate(182.424869 239.238437)scale(0.1 -0.1)\">\r\n       <use xlink:href=\"#DejaVuSans-49\"/>\r\n       <use x=\"63.623047\" xlink:href=\"#DejaVuSans-53\"/>\r\n      </g>\r\n     </g>\r\n    </g>\r\n    <g id=\"xtick_5\">\r\n     <g id=\"line2d_9\">\r\n      <path clip-path=\"url(#p85954c1967)\" d=\"M 227.808348 224.64 \r\nL 227.808348 7.2 \r\n\" style=\"fill:none;stroke:#b0b0b0;stroke-linecap:square;stroke-width:0.8;\"/>\r\n     </g>\r\n     <g id=\"line2d_10\">\r\n      <g>\r\n       <use style=\"stroke:#000000;stroke-width:0.8;\" x=\"227.808348\" xlink:href=\"#mbf8d3be96a\" y=\"224.64\"/>\r\n      </g>\r\n     </g>\r\n     <g id=\"text_5\">\r\n      <!-- 20 -->\r\n      <g transform=\"translate(221.445848 239.238437)scale(0.1 -0.1)\">\r\n       <defs>\r\n        <path d=\"M 19.1875 8.296875 \r\nL 53.609375 8.296875 \r\nL 53.609375 0 \r\nL 7.328125 0 \r\nL 7.328125 8.296875 \r\nQ 12.9375 14.109375 22.625 23.890625 \r\nQ 32.328125 33.6875 34.8125 36.53125 \r\nQ 39.546875 41.84375 41.421875 45.53125 \r\nQ 43.3125 49.21875 43.3125 52.78125 \r\nQ 43.3125 58.59375 39.234375 62.25 \r\nQ 35.15625 65.921875 28.609375 65.921875 \r\nQ 23.96875 65.921875 18.8125 64.3125 \r\nQ 13.671875 62.703125 7.8125 59.421875 \r\nL 7.8125 69.390625 \r\nQ 13.765625 71.78125 18.9375 73 \r\nQ 24.125 74.21875 28.421875 74.21875 \r\nQ 39.75 74.21875 46.484375 68.546875 \r\nQ 53.21875 62.890625 53.21875 53.421875 \r\nQ 53.21875 48.921875 51.53125 44.890625 \r\nQ 49.859375 40.875 45.40625 35.40625 \r\nQ 44.1875 33.984375 37.640625 27.21875 \r\nQ 31.109375 20.453125 19.1875 8.296875 \r\nz\r\n\" id=\"DejaVuSans-50\"/>\r\n       </defs>\r\n       <use xlink:href=\"#DejaVuSans-50\"/>\r\n       <use x=\"63.623047\" xlink:href=\"#DejaVuSans-48\"/>\r\n      </g>\r\n     </g>\r\n    </g>\r\n    <g id=\"xtick_6\">\r\n     <g id=\"line2d_11\">\r\n      <path clip-path=\"url(#p85954c1967)\" d=\"M 266.829327 224.64 \r\nL 266.829327 7.2 \r\n\" style=\"fill:none;stroke:#b0b0b0;stroke-linecap:square;stroke-width:0.8;\"/>\r\n     </g>\r\n     <g id=\"line2d_12\">\r\n      <g>\r\n       <use style=\"stroke:#000000;stroke-width:0.8;\" x=\"266.829327\" xlink:href=\"#mbf8d3be96a\" y=\"224.64\"/>\r\n      </g>\r\n     </g>\r\n     <g id=\"text_6\">\r\n      <!-- 25 -->\r\n      <g transform=\"translate(260.466827 239.238437)scale(0.1 -0.1)\">\r\n       <use xlink:href=\"#DejaVuSans-50\"/>\r\n       <use x=\"63.623047\" xlink:href=\"#DejaVuSans-53\"/>\r\n      </g>\r\n     </g>\r\n    </g>\r\n    <g id=\"xtick_7\">\r\n     <g id=\"line2d_13\">\r\n      <path clip-path=\"url(#p85954c1967)\" d=\"M 305.850306 224.64 \r\nL 305.850306 7.2 \r\n\" style=\"fill:none;stroke:#b0b0b0;stroke-linecap:square;stroke-width:0.8;\"/>\r\n     </g>\r\n     <g id=\"line2d_14\">\r\n      <g>\r\n       <use style=\"stroke:#000000;stroke-width:0.8;\" x=\"305.850306\" xlink:href=\"#mbf8d3be96a\" y=\"224.64\"/>\r\n      </g>\r\n     </g>\r\n     <g id=\"text_7\">\r\n      <!-- 30 -->\r\n      <g transform=\"translate(299.487806 239.238437)scale(0.1 -0.1)\">\r\n       <defs>\r\n        <path d=\"M 40.578125 39.3125 \r\nQ 47.65625 37.796875 51.625 33 \r\nQ 55.609375 28.21875 55.609375 21.1875 \r\nQ 55.609375 10.40625 48.1875 4.484375 \r\nQ 40.765625 -1.421875 27.09375 -1.421875 \r\nQ 22.515625 -1.421875 17.65625 -0.515625 \r\nQ 12.796875 0.390625 7.625 2.203125 \r\nL 7.625 11.71875 \r\nQ 11.71875 9.328125 16.59375 8.109375 \r\nQ 21.484375 6.890625 26.8125 6.890625 \r\nQ 36.078125 6.890625 40.9375 10.546875 \r\nQ 45.796875 14.203125 45.796875 21.1875 \r\nQ 45.796875 27.640625 41.28125 31.265625 \r\nQ 36.765625 34.90625 28.71875 34.90625 \r\nL 20.21875 34.90625 \r\nL 20.21875 43.015625 \r\nL 29.109375 43.015625 \r\nQ 36.375 43.015625 40.234375 45.921875 \r\nQ 44.09375 48.828125 44.09375 54.296875 \r\nQ 44.09375 59.90625 40.109375 62.90625 \r\nQ 36.140625 65.921875 28.71875 65.921875 \r\nQ 24.65625 65.921875 20.015625 65.03125 \r\nQ 15.375 64.15625 9.8125 62.3125 \r\nL 9.8125 71.09375 \r\nQ 15.4375 72.65625 20.34375 73.4375 \r\nQ 25.25 74.21875 29.59375 74.21875 \r\nQ 40.828125 74.21875 47.359375 69.109375 \r\nQ 53.90625 64.015625 53.90625 55.328125 \r\nQ 53.90625 49.265625 50.4375 45.09375 \r\nQ 46.96875 40.921875 40.578125 39.3125 \r\nz\r\n\" id=\"DejaVuSans-51\"/>\r\n       </defs>\r\n       <use xlink:href=\"#DejaVuSans-51\"/>\r\n       <use x=\"63.623047\" xlink:href=\"#DejaVuSans-48\"/>\r\n      </g>\r\n     </g>\r\n    </g>\r\n    <g id=\"xtick_8\">\r\n     <g id=\"line2d_15\">\r\n      <path clip-path=\"url(#p85954c1967)\" d=\"M 344.871285 224.64 \r\nL 344.871285 7.2 \r\n\" style=\"fill:none;stroke:#b0b0b0;stroke-linecap:square;stroke-width:0.8;\"/>\r\n     </g>\r\n     <g id=\"line2d_16\">\r\n      <g>\r\n       <use style=\"stroke:#000000;stroke-width:0.8;\" x=\"344.871285\" xlink:href=\"#mbf8d3be96a\" y=\"224.64\"/>\r\n      </g>\r\n     </g>\r\n     <g id=\"text_8\">\r\n      <!-- 35 -->\r\n      <g transform=\"translate(338.508785 239.238437)scale(0.1 -0.1)\">\r\n       <use xlink:href=\"#DejaVuSans-51\"/>\r\n       <use x=\"63.623047\" xlink:href=\"#DejaVuSans-53\"/>\r\n      </g>\r\n     </g>\r\n    </g>\r\n    <g id=\"xtick_9\">\r\n     <g id=\"line2d_17\">\r\n      <path clip-path=\"url(#p85954c1967)\" d=\"M 383.892264 224.64 \r\nL 383.892264 7.2 \r\n\" style=\"fill:none;stroke:#b0b0b0;stroke-linecap:square;stroke-width:0.8;\"/>\r\n     </g>\r\n     <g id=\"line2d_18\">\r\n      <g>\r\n       <use style=\"stroke:#000000;stroke-width:0.8;\" x=\"383.892264\" xlink:href=\"#mbf8d3be96a\" y=\"224.64\"/>\r\n      </g>\r\n     </g>\r\n     <g id=\"text_9\">\r\n      <!-- 40 -->\r\n      <g transform=\"translate(377.529764 239.238437)scale(0.1 -0.1)\">\r\n       <defs>\r\n        <path d=\"M 37.796875 64.3125 \r\nL 12.890625 25.390625 \r\nL 37.796875 25.390625 \r\nz\r\nM 35.203125 72.90625 \r\nL 47.609375 72.90625 \r\nL 47.609375 25.390625 \r\nL 58.015625 25.390625 \r\nL 58.015625 17.1875 \r\nL 47.609375 17.1875 \r\nL 47.609375 0 \r\nL 37.796875 0 \r\nL 37.796875 17.1875 \r\nL 4.890625 17.1875 \r\nL 4.890625 26.703125 \r\nz\r\n\" id=\"DejaVuSans-52\"/>\r\n       </defs>\r\n       <use xlink:href=\"#DejaVuSans-52\"/>\r\n       <use x=\"63.623047\" xlink:href=\"#DejaVuSans-48\"/>\r\n      </g>\r\n     </g>\r\n    </g>\r\n    <g id=\"text_10\">\r\n     <!-- epoch -->\r\n     <g transform=\"translate(208.678125 252.916562)scale(0.1 -0.1)\">\r\n      <defs>\r\n       <path d=\"M 56.203125 29.59375 \r\nL 56.203125 25.203125 \r\nL 14.890625 25.203125 \r\nQ 15.484375 15.921875 20.484375 11.0625 \r\nQ 25.484375 6.203125 34.421875 6.203125 \r\nQ 39.59375 6.203125 44.453125 7.46875 \r\nQ 49.3125 8.734375 54.109375 11.28125 \r\nL 54.109375 2.78125 \r\nQ 49.265625 0.734375 44.1875 -0.34375 \r\nQ 39.109375 -1.421875 33.890625 -1.421875 \r\nQ 20.796875 -1.421875 13.15625 6.1875 \r\nQ 5.515625 13.8125 5.515625 26.8125 \r\nQ 5.515625 40.234375 12.765625 48.109375 \r\nQ 20.015625 56 32.328125 56 \r\nQ 43.359375 56 49.78125 48.890625 \r\nQ 56.203125 41.796875 56.203125 29.59375 \r\nz\r\nM 47.21875 32.234375 \r\nQ 47.125 39.59375 43.09375 43.984375 \r\nQ 39.0625 48.390625 32.421875 48.390625 \r\nQ 24.90625 48.390625 20.390625 44.140625 \r\nQ 15.875 39.890625 15.1875 32.171875 \r\nz\r\n\" id=\"DejaVuSans-101\"/>\r\n       <path d=\"M 18.109375 8.203125 \r\nL 18.109375 -20.796875 \r\nL 9.078125 -20.796875 \r\nL 9.078125 54.6875 \r\nL 18.109375 54.6875 \r\nL 18.109375 46.390625 \r\nQ 20.953125 51.265625 25.265625 53.625 \r\nQ 29.59375 56 35.59375 56 \r\nQ 45.5625 56 51.78125 48.09375 \r\nQ 58.015625 40.1875 58.015625 27.296875 \r\nQ 58.015625 14.40625 51.78125 6.484375 \r\nQ 45.5625 -1.421875 35.59375 -1.421875 \r\nQ 29.59375 -1.421875 25.265625 0.953125 \r\nQ 20.953125 3.328125 18.109375 8.203125 \r\nz\r\nM 48.6875 27.296875 \r\nQ 48.6875 37.203125 44.609375 42.84375 \r\nQ 40.53125 48.484375 33.40625 48.484375 \r\nQ 26.265625 48.484375 22.1875 42.84375 \r\nQ 18.109375 37.203125 18.109375 27.296875 \r\nQ 18.109375 17.390625 22.1875 11.75 \r\nQ 26.265625 6.109375 33.40625 6.109375 \r\nQ 40.53125 6.109375 44.609375 11.75 \r\nQ 48.6875 17.390625 48.6875 27.296875 \r\nz\r\n\" id=\"DejaVuSans-112\"/>\r\n       <path d=\"M 30.609375 48.390625 \r\nQ 23.390625 48.390625 19.1875 42.75 \r\nQ 14.984375 37.109375 14.984375 27.296875 \r\nQ 14.984375 17.484375 19.15625 11.84375 \r\nQ 23.34375 6.203125 30.609375 6.203125 \r\nQ 37.796875 6.203125 41.984375 11.859375 \r\nQ 46.1875 17.53125 46.1875 27.296875 \r\nQ 46.1875 37.015625 41.984375 42.703125 \r\nQ 37.796875 48.390625 30.609375 48.390625 \r\nz\r\nM 30.609375 56 \r\nQ 42.328125 56 49.015625 48.375 \r\nQ 55.71875 40.765625 55.71875 27.296875 \r\nQ 55.71875 13.875 49.015625 6.21875 \r\nQ 42.328125 -1.421875 30.609375 -1.421875 \r\nQ 18.84375 -1.421875 12.171875 6.21875 \r\nQ 5.515625 13.875 5.515625 27.296875 \r\nQ 5.515625 40.765625 12.171875 48.375 \r\nQ 18.84375 56 30.609375 56 \r\nz\r\n\" id=\"DejaVuSans-111\"/>\r\n       <path d=\"M 48.78125 52.59375 \r\nL 48.78125 44.1875 \r\nQ 44.96875 46.296875 41.140625 47.34375 \r\nQ 37.3125 48.390625 33.40625 48.390625 \r\nQ 24.65625 48.390625 19.8125 42.84375 \r\nQ 14.984375 37.3125 14.984375 27.296875 \r\nQ 14.984375 17.28125 19.8125 11.734375 \r\nQ 24.65625 6.203125 33.40625 6.203125 \r\nQ 37.3125 6.203125 41.140625 7.25 \r\nQ 44.96875 8.296875 48.78125 10.40625 \r\nL 48.78125 2.09375 \r\nQ 45.015625 0.34375 40.984375 -0.53125 \r\nQ 36.96875 -1.421875 32.421875 -1.421875 \r\nQ 20.0625 -1.421875 12.78125 6.34375 \r\nQ 5.515625 14.109375 5.515625 27.296875 \r\nQ 5.515625 40.671875 12.859375 48.328125 \r\nQ 20.21875 56 33.015625 56 \r\nQ 37.15625 56 41.109375 55.140625 \r\nQ 45.0625 54.296875 48.78125 52.59375 \r\nz\r\n\" id=\"DejaVuSans-99\"/>\r\n       <path d=\"M 54.890625 33.015625 \r\nL 54.890625 0 \r\nL 45.90625 0 \r\nL 45.90625 32.71875 \r\nQ 45.90625 40.484375 42.875 44.328125 \r\nQ 39.84375 48.1875 33.796875 48.1875 \r\nQ 26.515625 48.1875 22.3125 43.546875 \r\nQ 18.109375 38.921875 18.109375 30.90625 \r\nL 18.109375 0 \r\nL 9.078125 0 \r\nL 9.078125 75.984375 \r\nL 18.109375 75.984375 \r\nL 18.109375 46.1875 \r\nQ 21.34375 51.125 25.703125 53.5625 \r\nQ 30.078125 56 35.796875 56 \r\nQ 45.21875 56 50.046875 50.171875 \r\nQ 54.890625 44.34375 54.890625 33.015625 \r\nz\r\n\" id=\"DejaVuSans-104\"/>\r\n      </defs>\r\n      <use xlink:href=\"#DejaVuSans-101\"/>\r\n      <use x=\"61.523438\" xlink:href=\"#DejaVuSans-112\"/>\r\n      <use x=\"125\" xlink:href=\"#DejaVuSans-111\"/>\r\n      <use x=\"186.181641\" xlink:href=\"#DejaVuSans-99\"/>\r\n      <use x=\"241.162109\" xlink:href=\"#DejaVuSans-104\"/>\r\n     </g>\r\n    </g>\r\n   </g>\r\n   <g id=\"matplotlib.axis_2\">\r\n    <g id=\"ytick_1\">\r\n     <g id=\"line2d_19\">\r\n      <path clip-path=\"url(#p85954c1967)\" d=\"M 56.50625 217.077894 \r\nL 391.30625 217.077894 \r\n\" style=\"fill:none;stroke:#b0b0b0;stroke-linecap:square;stroke-width:0.8;\"/>\r\n     </g>\r\n     <g id=\"line2d_20\">\r\n      <defs>\r\n       <path d=\"M 0 0 \r\nL -3.5 0 \r\n\" id=\"m4f2efd5cc4\" style=\"stroke:#000000;stroke-width:0.8;\"/>\r\n      </defs>\r\n      <g>\r\n       <use style=\"stroke:#000000;stroke-width:0.8;\" x=\"56.50625\" xlink:href=\"#m4f2efd5cc4\" y=\"217.077894\"/>\r\n      </g>\r\n     </g>\r\n     <g id=\"text_11\">\r\n      <!-- 0.000 -->\r\n      <g transform=\"translate(20.878125 220.877113)scale(0.1 -0.1)\">\r\n       <defs>\r\n        <path d=\"M 10.6875 12.40625 \r\nL 21 12.40625 \r\nL 21 0 \r\nL 10.6875 0 \r\nz\r\n\" id=\"DejaVuSans-46\"/>\r\n       </defs>\r\n       <use xlink:href=\"#DejaVuSans-48\"/>\r\n       <use x=\"63.623047\" xlink:href=\"#DejaVuSans-46\"/>\r\n       <use x=\"95.410156\" xlink:href=\"#DejaVuSans-48\"/>\r\n       <use x=\"159.033203\" xlink:href=\"#DejaVuSans-48\"/>\r\n       <use x=\"222.65625\" xlink:href=\"#DejaVuSans-48\"/>\r\n      </g>\r\n     </g>\r\n    </g>\r\n    <g id=\"ytick_2\">\r\n     <g id=\"line2d_21\">\r\n      <path clip-path=\"url(#p85954c1967)\" d=\"M 56.50625 185.229067 \r\nL 391.30625 185.229067 \r\n\" style=\"fill:none;stroke:#b0b0b0;stroke-linecap:square;stroke-width:0.8;\"/>\r\n     </g>\r\n     <g id=\"line2d_22\">\r\n      <g>\r\n       <use style=\"stroke:#000000;stroke-width:0.8;\" x=\"56.50625\" xlink:href=\"#m4f2efd5cc4\" y=\"185.229067\"/>\r\n      </g>\r\n     </g>\r\n     <g id=\"text_12\">\r\n      <!-- 0.002 -->\r\n      <g transform=\"translate(20.878125 189.028286)scale(0.1 -0.1)\">\r\n       <use xlink:href=\"#DejaVuSans-48\"/>\r\n       <use x=\"63.623047\" xlink:href=\"#DejaVuSans-46\"/>\r\n       <use x=\"95.410156\" xlink:href=\"#DejaVuSans-48\"/>\r\n       <use x=\"159.033203\" xlink:href=\"#DejaVuSans-48\"/>\r\n       <use x=\"222.65625\" xlink:href=\"#DejaVuSans-50\"/>\r\n      </g>\r\n     </g>\r\n    </g>\r\n    <g id=\"ytick_3\">\r\n     <g id=\"line2d_23\">\r\n      <path clip-path=\"url(#p85954c1967)\" d=\"M 56.50625 153.38024 \r\nL 391.30625 153.38024 \r\n\" style=\"fill:none;stroke:#b0b0b0;stroke-linecap:square;stroke-width:0.8;\"/>\r\n     </g>\r\n     <g id=\"line2d_24\">\r\n      <g>\r\n       <use style=\"stroke:#000000;stroke-width:0.8;\" x=\"56.50625\" xlink:href=\"#m4f2efd5cc4\" y=\"153.38024\"/>\r\n      </g>\r\n     </g>\r\n     <g id=\"text_13\">\r\n      <!-- 0.004 -->\r\n      <g transform=\"translate(20.878125 157.179458)scale(0.1 -0.1)\">\r\n       <use xlink:href=\"#DejaVuSans-48\"/>\r\n       <use x=\"63.623047\" xlink:href=\"#DejaVuSans-46\"/>\r\n       <use x=\"95.410156\" xlink:href=\"#DejaVuSans-48\"/>\r\n       <use x=\"159.033203\" xlink:href=\"#DejaVuSans-48\"/>\r\n       <use x=\"222.65625\" xlink:href=\"#DejaVuSans-52\"/>\r\n      </g>\r\n     </g>\r\n    </g>\r\n    <g id=\"ytick_4\">\r\n     <g id=\"line2d_25\">\r\n      <path clip-path=\"url(#p85954c1967)\" d=\"M 56.50625 121.531412 \r\nL 391.30625 121.531412 \r\n\" style=\"fill:none;stroke:#b0b0b0;stroke-linecap:square;stroke-width:0.8;\"/>\r\n     </g>\r\n     <g id=\"line2d_26\">\r\n      <g>\r\n       <use style=\"stroke:#000000;stroke-width:0.8;\" x=\"56.50625\" xlink:href=\"#m4f2efd5cc4\" y=\"121.531412\"/>\r\n      </g>\r\n     </g>\r\n     <g id=\"text_14\">\r\n      <!-- 0.006 -->\r\n      <g transform=\"translate(20.878125 125.330631)scale(0.1 -0.1)\">\r\n       <defs>\r\n        <path d=\"M 33.015625 40.375 \r\nQ 26.375 40.375 22.484375 35.828125 \r\nQ 18.609375 31.296875 18.609375 23.390625 \r\nQ 18.609375 15.53125 22.484375 10.953125 \r\nQ 26.375 6.390625 33.015625 6.390625 \r\nQ 39.65625 6.390625 43.53125 10.953125 \r\nQ 47.40625 15.53125 47.40625 23.390625 \r\nQ 47.40625 31.296875 43.53125 35.828125 \r\nQ 39.65625 40.375 33.015625 40.375 \r\nz\r\nM 52.59375 71.296875 \r\nL 52.59375 62.3125 \r\nQ 48.875 64.0625 45.09375 64.984375 \r\nQ 41.3125 65.921875 37.59375 65.921875 \r\nQ 27.828125 65.921875 22.671875 59.328125 \r\nQ 17.53125 52.734375 16.796875 39.40625 \r\nQ 19.671875 43.65625 24.015625 45.921875 \r\nQ 28.375 48.1875 33.59375 48.1875 \r\nQ 44.578125 48.1875 50.953125 41.515625 \r\nQ 57.328125 34.859375 57.328125 23.390625 \r\nQ 57.328125 12.15625 50.6875 5.359375 \r\nQ 44.046875 -1.421875 33.015625 -1.421875 \r\nQ 20.359375 -1.421875 13.671875 8.265625 \r\nQ 6.984375 17.96875 6.984375 36.375 \r\nQ 6.984375 53.65625 15.1875 63.9375 \r\nQ 23.390625 74.21875 37.203125 74.21875 \r\nQ 40.921875 74.21875 44.703125 73.484375 \r\nQ 48.484375 72.75 52.59375 71.296875 \r\nz\r\n\" id=\"DejaVuSans-54\"/>\r\n       </defs>\r\n       <use xlink:href=\"#DejaVuSans-48\"/>\r\n       <use x=\"63.623047\" xlink:href=\"#DejaVuSans-46\"/>\r\n       <use x=\"95.410156\" xlink:href=\"#DejaVuSans-48\"/>\r\n       <use x=\"159.033203\" xlink:href=\"#DejaVuSans-48\"/>\r\n       <use x=\"222.65625\" xlink:href=\"#DejaVuSans-54\"/>\r\n      </g>\r\n     </g>\r\n    </g>\r\n    <g id=\"ytick_5\">\r\n     <g id=\"line2d_27\">\r\n      <path clip-path=\"url(#p85954c1967)\" d=\"M 56.50625 89.682585 \r\nL 391.30625 89.682585 \r\n\" style=\"fill:none;stroke:#b0b0b0;stroke-linecap:square;stroke-width:0.8;\"/>\r\n     </g>\r\n     <g id=\"line2d_28\">\r\n      <g>\r\n       <use style=\"stroke:#000000;stroke-width:0.8;\" x=\"56.50625\" xlink:href=\"#m4f2efd5cc4\" y=\"89.682585\"/>\r\n      </g>\r\n     </g>\r\n     <g id=\"text_15\">\r\n      <!-- 0.008 -->\r\n      <g transform=\"translate(20.878125 93.481804)scale(0.1 -0.1)\">\r\n       <defs>\r\n        <path d=\"M 31.78125 34.625 \r\nQ 24.75 34.625 20.71875 30.859375 \r\nQ 16.703125 27.09375 16.703125 20.515625 \r\nQ 16.703125 13.921875 20.71875 10.15625 \r\nQ 24.75 6.390625 31.78125 6.390625 \r\nQ 38.8125 6.390625 42.859375 10.171875 \r\nQ 46.921875 13.96875 46.921875 20.515625 \r\nQ 46.921875 27.09375 42.890625 30.859375 \r\nQ 38.875 34.625 31.78125 34.625 \r\nz\r\nM 21.921875 38.8125 \r\nQ 15.578125 40.375 12.03125 44.71875 \r\nQ 8.5 49.078125 8.5 55.328125 \r\nQ 8.5 64.0625 14.71875 69.140625 \r\nQ 20.953125 74.21875 31.78125 74.21875 \r\nQ 42.671875 74.21875 48.875 69.140625 \r\nQ 55.078125 64.0625 55.078125 55.328125 \r\nQ 55.078125 49.078125 51.53125 44.71875 \r\nQ 48 40.375 41.703125 38.8125 \r\nQ 48.828125 37.15625 52.796875 32.3125 \r\nQ 56.78125 27.484375 56.78125 20.515625 \r\nQ 56.78125 9.90625 50.3125 4.234375 \r\nQ 43.84375 -1.421875 31.78125 -1.421875 \r\nQ 19.734375 -1.421875 13.25 4.234375 \r\nQ 6.78125 9.90625 6.78125 20.515625 \r\nQ 6.78125 27.484375 10.78125 32.3125 \r\nQ 14.796875 37.15625 21.921875 38.8125 \r\nz\r\nM 18.3125 54.390625 \r\nQ 18.3125 48.734375 21.84375 45.5625 \r\nQ 25.390625 42.390625 31.78125 42.390625 \r\nQ 38.140625 42.390625 41.71875 45.5625 \r\nQ 45.3125 48.734375 45.3125 54.390625 \r\nQ 45.3125 60.0625 41.71875 63.234375 \r\nQ 38.140625 66.40625 31.78125 66.40625 \r\nQ 25.390625 66.40625 21.84375 63.234375 \r\nQ 18.3125 60.0625 18.3125 54.390625 \r\nz\r\n\" id=\"DejaVuSans-56\"/>\r\n       </defs>\r\n       <use xlink:href=\"#DejaVuSans-48\"/>\r\n       <use x=\"63.623047\" xlink:href=\"#DejaVuSans-46\"/>\r\n       <use x=\"95.410156\" xlink:href=\"#DejaVuSans-48\"/>\r\n       <use x=\"159.033203\" xlink:href=\"#DejaVuSans-48\"/>\r\n       <use x=\"222.65625\" xlink:href=\"#DejaVuSans-56\"/>\r\n      </g>\r\n     </g>\r\n    </g>\r\n    <g id=\"ytick_6\">\r\n     <g id=\"line2d_29\">\r\n      <path clip-path=\"url(#p85954c1967)\" d=\"M 56.50625 57.833758 \r\nL 391.30625 57.833758 \r\n\" style=\"fill:none;stroke:#b0b0b0;stroke-linecap:square;stroke-width:0.8;\"/>\r\n     </g>\r\n     <g id=\"line2d_30\">\r\n      <g>\r\n       <use style=\"stroke:#000000;stroke-width:0.8;\" x=\"56.50625\" xlink:href=\"#m4f2efd5cc4\" y=\"57.833758\"/>\r\n      </g>\r\n     </g>\r\n     <g id=\"text_16\">\r\n      <!-- 0.010 -->\r\n      <g transform=\"translate(20.878125 61.632976)scale(0.1 -0.1)\">\r\n       <use xlink:href=\"#DejaVuSans-48\"/>\r\n       <use x=\"63.623047\" xlink:href=\"#DejaVuSans-46\"/>\r\n       <use x=\"95.410156\" xlink:href=\"#DejaVuSans-48\"/>\r\n       <use x=\"159.033203\" xlink:href=\"#DejaVuSans-49\"/>\r\n       <use x=\"222.65625\" xlink:href=\"#DejaVuSans-48\"/>\r\n      </g>\r\n     </g>\r\n    </g>\r\n    <g id=\"ytick_7\">\r\n     <g id=\"line2d_31\">\r\n      <path clip-path=\"url(#p85954c1967)\" d=\"M 56.50625 25.98493 \r\nL 391.30625 25.98493 \r\n\" style=\"fill:none;stroke:#b0b0b0;stroke-linecap:square;stroke-width:0.8;\"/>\r\n     </g>\r\n     <g id=\"line2d_32\">\r\n      <g>\r\n       <use style=\"stroke:#000000;stroke-width:0.8;\" x=\"56.50625\" xlink:href=\"#m4f2efd5cc4\" y=\"25.98493\"/>\r\n      </g>\r\n     </g>\r\n     <g id=\"text_17\">\r\n      <!-- 0.012 -->\r\n      <g transform=\"translate(20.878125 29.784149)scale(0.1 -0.1)\">\r\n       <use xlink:href=\"#DejaVuSans-48\"/>\r\n       <use x=\"63.623047\" xlink:href=\"#DejaVuSans-46\"/>\r\n       <use x=\"95.410156\" xlink:href=\"#DejaVuSans-48\"/>\r\n       <use x=\"159.033203\" xlink:href=\"#DejaVuSans-49\"/>\r\n       <use x=\"222.65625\" xlink:href=\"#DejaVuSans-50\"/>\r\n      </g>\r\n     </g>\r\n    </g>\r\n    <g id=\"text_18\">\r\n     <!-- loss -->\r\n     <g transform=\"translate(14.798438 125.577812)rotate(-90)scale(0.1 -0.1)\">\r\n      <defs>\r\n       <path d=\"M 9.421875 75.984375 \r\nL 18.40625 75.984375 \r\nL 18.40625 0 \r\nL 9.421875 0 \r\nz\r\n\" id=\"DejaVuSans-108\"/>\r\n       <path d=\"M 44.28125 53.078125 \r\nL 44.28125 44.578125 \r\nQ 40.484375 46.53125 36.375 47.5 \r\nQ 32.28125 48.484375 27.875 48.484375 \r\nQ 21.1875 48.484375 17.84375 46.4375 \r\nQ 14.5 44.390625 14.5 40.28125 \r\nQ 14.5 37.15625 16.890625 35.375 \r\nQ 19.28125 33.59375 26.515625 31.984375 \r\nL 29.59375 31.296875 \r\nQ 39.15625 29.25 43.1875 25.515625 \r\nQ 47.21875 21.78125 47.21875 15.09375 \r\nQ 47.21875 7.46875 41.1875 3.015625 \r\nQ 35.15625 -1.421875 24.609375 -1.421875 \r\nQ 20.21875 -1.421875 15.453125 -0.5625 \r\nQ 10.6875 0.296875 5.421875 2 \r\nL 5.421875 11.28125 \r\nQ 10.40625 8.6875 15.234375 7.390625 \r\nQ 20.0625 6.109375 24.8125 6.109375 \r\nQ 31.15625 6.109375 34.5625 8.28125 \r\nQ 37.984375 10.453125 37.984375 14.40625 \r\nQ 37.984375 18.0625 35.515625 20.015625 \r\nQ 33.0625 21.96875 24.703125 23.78125 \r\nL 21.578125 24.515625 \r\nQ 13.234375 26.265625 9.515625 29.90625 \r\nQ 5.8125 33.546875 5.8125 39.890625 \r\nQ 5.8125 47.609375 11.28125 51.796875 \r\nQ 16.75 56 26.8125 56 \r\nQ 31.78125 56 36.171875 55.265625 \r\nQ 40.578125 54.546875 44.28125 53.078125 \r\nz\r\n\" id=\"DejaVuSans-115\"/>\r\n      </defs>\r\n      <use xlink:href=\"#DejaVuSans-108\"/>\r\n      <use x=\"27.783203\" xlink:href=\"#DejaVuSans-111\"/>\r\n      <use x=\"88.964844\" xlink:href=\"#DejaVuSans-115\"/>\r\n      <use x=\"141.064453\" xlink:href=\"#DejaVuSans-115\"/>\r\n     </g>\r\n    </g>\r\n   </g>\r\n   <g id=\"line2d_33\">\r\n    <path clip-path=\"url(#p85954c1967)\" d=\"M 71.724432 17.083636 \r\nL 79.528628 175.510898 \r\nL 87.332823 189.569226 \r\nL 95.137019 194.882793 \r\nL 102.941215 199.067418 \r\nL 110.745411 201.803045 \r\nL 118.549607 203.759307 \r\nL 126.353802 205.123755 \r\nL 134.157998 206.416365 \r\nL 141.962194 206.566309 \r\nL 149.76639 208.084073 \r\nL 157.570586 209.230795 \r\nL 165.374781 210.213149 \r\nL 173.178977 210.52371 \r\nL 180.983173 210.199576 \r\nL 188.787369 211.307199 \r\nL 196.591565 211.780937 \r\nL 204.39576 212.011432 \r\nL 212.199956 211.935244 \r\nL 220.004152 212.49983 \r\nL 227.808348 212.942239 \r\nL 235.612544 212.577456 \r\nL 243.41674 213.124336 \r\nL 251.220935 213.201047 \r\nL 259.025131 213.363332 \r\nL 266.829327 213.63308 \r\nL 274.633523 213.029742 \r\nL 282.437719 213.671104 \r\nL 290.241914 213.561491 \r\nL 298.04611 213.54291 \r\nL 305.850306 214.241937 \r\nL 313.654502 214.398057 \r\nL 321.458698 213.896973 \r\nL 329.262893 213.256028 \r\nL 337.067089 214.191683 \r\nL 344.871285 214.649366 \r\nL 352.675481 214.756364 \r\nL 360.479677 214.711184 \r\nL 368.283872 214.320302 \r\nL 376.088068 214.213586 \r\n\" style=\"fill:none;stroke:#1f77b4;stroke-linecap:square;stroke-width:3;\"/>\r\n   </g>\r\n   <g id=\"line2d_34\">\r\n    <path clip-path=\"url(#p85954c1967)\" d=\"M 71.724432 139.395121 \r\nL 79.528628 184.398832 \r\nL 87.332823 181.663579 \r\nL 95.137019 183.042354 \r\nL 102.941215 185.896939 \r\nL 110.745411 179.181224 \r\nL 118.549607 190.889086 \r\nL 126.353802 192.854906 \r\nL 134.157998 194.869794 \r\nL 141.962194 195.497758 \r\nL 149.76639 185.72996 \r\nL 157.570586 193.147462 \r\nL 165.374781 192.16697 \r\nL 173.178977 188.585081 \r\nL 180.983173 191.655138 \r\nL 188.787369 193.875113 \r\nL 196.591565 195.119783 \r\nL 204.39576 194.257487 \r\nL 212.199956 194.612209 \r\nL 220.004152 194.090533 \r\nL 227.808348 194.826453 \r\nL 235.612544 193.348548 \r\nL 243.41674 191.584013 \r\nL 251.220935 193.448111 \r\nL 259.025131 193.122516 \r\nL 266.829327 194.414456 \r\nL 274.633523 193.193289 \r\nL 282.437719 192.193714 \r\nL 290.241914 191.456677 \r\nL 298.04611 194.088376 \r\nL 305.850306 192.846475 \r\nL 313.654502 194.089236 \r\nL 321.458698 192.005632 \r\nL 329.262893 193.030883 \r\nL 337.067089 192.353649 \r\nL 344.871285 193.177969 \r\nL 352.675481 190.61017 \r\nL 360.479677 192.462957 \r\nL 368.283872 191.604602 \r\nL 376.088068 192.185371 \r\n\" style=\"fill:none;stroke:#ff7f0e;stroke-linecap:square;stroke-width:3;\"/>\r\n   </g>\r\n   <g id=\"patch_3\">\r\n    <path d=\"M 56.50625 224.64 \r\nL 56.50625 7.2 \r\n\" style=\"fill:none;stroke:#000000;stroke-linecap:square;stroke-linejoin:miter;stroke-width:0.8;\"/>\r\n   </g>\r\n   <g id=\"patch_4\">\r\n    <path d=\"M 391.30625 224.64 \r\nL 391.30625 7.2 \r\n\" style=\"fill:none;stroke:#000000;stroke-linecap:square;stroke-linejoin:miter;stroke-width:0.8;\"/>\r\n   </g>\r\n   <g id=\"patch_5\">\r\n    <path d=\"M 56.50625 224.64 \r\nL 391.30625 224.64 \r\n\" style=\"fill:none;stroke:#000000;stroke-linecap:square;stroke-linejoin:miter;stroke-width:0.8;\"/>\r\n   </g>\r\n   <g id=\"patch_6\">\r\n    <path d=\"M 56.50625 7.2 \r\nL 391.30625 7.2 \r\n\" style=\"fill:none;stroke:#000000;stroke-linecap:square;stroke-linejoin:miter;stroke-width:0.8;\"/>\r\n   </g>\r\n   <g id=\"legend_1\">\r\n    <g id=\"patch_7\">\r\n     <path d=\"M 328.354688 44.55625 \r\nL 384.30625 44.55625 \r\nQ 386.30625 44.55625 386.30625 42.55625 \r\nL 386.30625 14.2 \r\nQ 386.30625 12.2 384.30625 12.2 \r\nL 328.354688 12.2 \r\nQ 326.354688 12.2 326.354688 14.2 \r\nL 326.354688 42.55625 \r\nQ 326.354688 44.55625 328.354688 44.55625 \r\nz\r\n\" style=\"fill:#ffffff;opacity:0.8;stroke:#cccccc;stroke-linejoin:miter;\"/>\r\n    </g>\r\n    <g id=\"line2d_35\">\r\n     <path d=\"M 330.354688 20.298437 \r\nL 350.354688 20.298437 \r\n\" style=\"fill:none;stroke:#1f77b4;stroke-linecap:square;stroke-width:3;\"/>\r\n    </g>\r\n    <g id=\"line2d_36\"/>\r\n    <g id=\"text_19\">\r\n     <!-- train -->\r\n     <g transform=\"translate(358.354688 23.798437)scale(0.1 -0.1)\">\r\n      <defs>\r\n       <path d=\"M 18.3125 70.21875 \r\nL 18.3125 54.6875 \r\nL 36.8125 54.6875 \r\nL 36.8125 47.703125 \r\nL 18.3125 47.703125 \r\nL 18.3125 18.015625 \r\nQ 18.3125 11.328125 20.140625 9.421875 \r\nQ 21.96875 7.515625 27.59375 7.515625 \r\nL 36.8125 7.515625 \r\nL 36.8125 0 \r\nL 27.59375 0 \r\nQ 17.1875 0 13.234375 3.875 \r\nQ 9.28125 7.765625 9.28125 18.015625 \r\nL 9.28125 47.703125 \r\nL 2.6875 47.703125 \r\nL 2.6875 54.6875 \r\nL 9.28125 54.6875 \r\nL 9.28125 70.21875 \r\nz\r\n\" id=\"DejaVuSans-116\"/>\r\n       <path d=\"M 41.109375 46.296875 \r\nQ 39.59375 47.171875 37.8125 47.578125 \r\nQ 36.03125 48 33.890625 48 \r\nQ 26.265625 48 22.1875 43.046875 \r\nQ 18.109375 38.09375 18.109375 28.8125 \r\nL 18.109375 0 \r\nL 9.078125 0 \r\nL 9.078125 54.6875 \r\nL 18.109375 54.6875 \r\nL 18.109375 46.1875 \r\nQ 20.953125 51.171875 25.484375 53.578125 \r\nQ 30.03125 56 36.53125 56 \r\nQ 37.453125 56 38.578125 55.875 \r\nQ 39.703125 55.765625 41.0625 55.515625 \r\nz\r\n\" id=\"DejaVuSans-114\"/>\r\n       <path d=\"M 34.28125 27.484375 \r\nQ 23.390625 27.484375 19.1875 25 \r\nQ 14.984375 22.515625 14.984375 16.5 \r\nQ 14.984375 11.71875 18.140625 8.90625 \r\nQ 21.296875 6.109375 26.703125 6.109375 \r\nQ 34.1875 6.109375 38.703125 11.40625 \r\nQ 43.21875 16.703125 43.21875 25.484375 \r\nL 43.21875 27.484375 \r\nz\r\nM 52.203125 31.203125 \r\nL 52.203125 0 \r\nL 43.21875 0 \r\nL 43.21875 8.296875 \r\nQ 40.140625 3.328125 35.546875 0.953125 \r\nQ 30.953125 -1.421875 24.3125 -1.421875 \r\nQ 15.921875 -1.421875 10.953125 3.296875 \r\nQ 6 8.015625 6 15.921875 \r\nQ 6 25.140625 12.171875 29.828125 \r\nQ 18.359375 34.515625 30.609375 34.515625 \r\nL 43.21875 34.515625 \r\nL 43.21875 35.40625 \r\nQ 43.21875 41.609375 39.140625 45 \r\nQ 35.0625 48.390625 27.6875 48.390625 \r\nQ 23 48.390625 18.546875 47.265625 \r\nQ 14.109375 46.140625 10.015625 43.890625 \r\nL 10.015625 52.203125 \r\nQ 14.9375 54.109375 19.578125 55.046875 \r\nQ 24.21875 56 28.609375 56 \r\nQ 40.484375 56 46.34375 49.84375 \r\nQ 52.203125 43.703125 52.203125 31.203125 \r\nz\r\n\" id=\"DejaVuSans-97\"/>\r\n       <path d=\"M 9.421875 54.6875 \r\nL 18.40625 54.6875 \r\nL 18.40625 0 \r\nL 9.421875 0 \r\nz\r\nM 9.421875 75.984375 \r\nL 18.40625 75.984375 \r\nL 18.40625 64.59375 \r\nL 9.421875 64.59375 \r\nz\r\n\" id=\"DejaVuSans-105\"/>\r\n       <path d=\"M 54.890625 33.015625 \r\nL 54.890625 0 \r\nL 45.90625 0 \r\nL 45.90625 32.71875 \r\nQ 45.90625 40.484375 42.875 44.328125 \r\nQ 39.84375 48.1875 33.796875 48.1875 \r\nQ 26.515625 48.1875 22.3125 43.546875 \r\nQ 18.109375 38.921875 18.109375 30.90625 \r\nL 18.109375 0 \r\nL 9.078125 0 \r\nL 9.078125 54.6875 \r\nL 18.109375 54.6875 \r\nL 18.109375 46.1875 \r\nQ 21.34375 51.125 25.703125 53.5625 \r\nQ 30.078125 56 35.796875 56 \r\nQ 45.21875 56 50.046875 50.171875 \r\nQ 54.890625 44.34375 54.890625 33.015625 \r\nz\r\n\" id=\"DejaVuSans-110\"/>\r\n      </defs>\r\n      <use xlink:href=\"#DejaVuSans-116\"/>\r\n      <use x=\"39.208984\" xlink:href=\"#DejaVuSans-114\"/>\r\n      <use x=\"80.322266\" xlink:href=\"#DejaVuSans-97\"/>\r\n      <use x=\"141.601562\" xlink:href=\"#DejaVuSans-105\"/>\r\n      <use x=\"169.384766\" xlink:href=\"#DejaVuSans-110\"/>\r\n     </g>\r\n    </g>\r\n    <g id=\"line2d_37\">\r\n     <path d=\"M 330.354688 34.976562 \r\nL 350.354688 34.976562 \r\n\" style=\"fill:none;stroke:#ff7f0e;stroke-linecap:square;stroke-width:3;\"/>\r\n    </g>\r\n    <g id=\"line2d_38\"/>\r\n    <g id=\"text_20\">\r\n     <!-- valid -->\r\n     <g transform=\"translate(358.354688 38.476562)scale(0.1 -0.1)\">\r\n      <defs>\r\n       <path d=\"M 2.984375 54.6875 \r\nL 12.5 54.6875 \r\nL 29.59375 8.796875 \r\nL 46.6875 54.6875 \r\nL 56.203125 54.6875 \r\nL 35.6875 0 \r\nL 23.484375 0 \r\nz\r\n\" id=\"DejaVuSans-118\"/>\r\n       <path d=\"M 45.40625 46.390625 \r\nL 45.40625 75.984375 \r\nL 54.390625 75.984375 \r\nL 54.390625 0 \r\nL 45.40625 0 \r\nL 45.40625 8.203125 \r\nQ 42.578125 3.328125 38.25 0.953125 \r\nQ 33.9375 -1.421875 27.875 -1.421875 \r\nQ 17.96875 -1.421875 11.734375 6.484375 \r\nQ 5.515625 14.40625 5.515625 27.296875 \r\nQ 5.515625 40.1875 11.734375 48.09375 \r\nQ 17.96875 56 27.875 56 \r\nQ 33.9375 56 38.25 53.625 \r\nQ 42.578125 51.265625 45.40625 46.390625 \r\nz\r\nM 14.796875 27.296875 \r\nQ 14.796875 17.390625 18.875 11.75 \r\nQ 22.953125 6.109375 30.078125 6.109375 \r\nQ 37.203125 6.109375 41.296875 11.75 \r\nQ 45.40625 17.390625 45.40625 27.296875 \r\nQ 45.40625 37.203125 41.296875 42.84375 \r\nQ 37.203125 48.484375 30.078125 48.484375 \r\nQ 22.953125 48.484375 18.875 42.84375 \r\nQ 14.796875 37.203125 14.796875 27.296875 \r\nz\r\n\" id=\"DejaVuSans-100\"/>\r\n      </defs>\r\n      <use xlink:href=\"#DejaVuSans-118\"/>\r\n      <use x=\"59.179688\" xlink:href=\"#DejaVuSans-97\"/>\r\n      <use x=\"120.458984\" xlink:href=\"#DejaVuSans-108\"/>\r\n      <use x=\"148.242188\" xlink:href=\"#DejaVuSans-105\"/>\r\n      <use x=\"176.025391\" xlink:href=\"#DejaVuSans-100\"/>\r\n     </g>\r\n    </g>\r\n   </g>\r\n  </g>\r\n </g>\r\n <defs>\r\n  <clipPath id=\"p85954c1967\">\r\n   <rect height=\"217.44\" width=\"334.8\" x=\"56.50625\" y=\"7.2\"/>\r\n  </clipPath>\r\n </defs>\r\n</svg>\r\n",
      "image/png": "[encoded data removed]"
     },
     "metadata": {
      "needs_background": "light"
     }
    }
   ],
   "source": [
    "import matplotlib.pyplot as plt\n",
    "#Return value hist from the model fit can be used to plot\n",
    "plt.plot(history.history['loss'], linewidth=3, label='train')\n",
    "plt.plot(history.history['val_loss'], linewidth=3, label='valid')\n",
    "plt.grid()\n",
    "plt.legend()\n",
    "plt.xlabel('epoch')\n",
    "plt.ylabel('loss')\n",
    "#plt.ylim(1e-3, 1e-2)\n",
    "#plt.yscale('log')\n",
    "plt.show()"
   ]
  },
  {
   "cell_type": "code",
   "execution_count": 128,
   "metadata": {},
   "outputs": [
    {
     "output_type": "stream",
     "name": "stdout",
     "text": [
      "opening pickle file\n"
     ]
    }
   ],
   "source": [
    "# predict\n",
    "print(\"opening pickle file\")\n",
    "#Get the clean train files\n",
    "#test = pickle.load( open( \"../data/clean_test.p\", \"rb\" ) )\n",
    "test = pickle.load( open( \"../data/test.p\", \"rb\" ) )\n",
    "clean_test = test.drop(['index', 'check_sum'], axis=1)\n",
    "\n",
    "\n",
    "\n"
   ]
  },
  {
   "cell_type": "code",
   "execution_count": null,
   "metadata": {},
   "outputs": [],
   "source": [
    "fig = plt.figure(figsize=(12, 12))\n",
    "fig.subplots_adjust(\n",
    "    left=0, right=1, bottom=0, top=1, hspace=0.05, wspace=0.05)\n",
    "\n",
    "for i in range(16):\n",
    "    axis = fig.add_subplot(4, 4, i+1, xticks=[], yticks=[])\n",
    "    plot_sample(dev_images[i], dev_labels[i], axis)\n",
    "\n",
    "plt.show()"
   ]
  },
  {
   "cell_type": "code",
   "execution_count": 130,
   "metadata": {},
   "outputs": [
    {
     "output_type": "stream",
     "name": "stdout",
     "text": [
      "opening pickle file\n",
      "(1783, 4)\n",
      "loading pickle file\n",
      "pickle file loaded\n",
      "(27124, 4)\n",
      "before melt: (1783, 30)\n",
      "after melt: (53490, 3)\n",
      "after merge: (27124, 2)\n",
      "Predictions written \n"
     ]
    }
   ],
   "source": [
    "import imp\n",
    "imp.reload(transform_data)\n",
    "\n",
    "print(\"opening pickle file\")\n",
    "#Get the clean train files\n",
    "#test = pickle.load( open( \"../data/clean_test.p\", \"rb\" ) )\n",
    "test = pickle.load( open( \"../data/test.p\", \"rb\" ) )\n",
    "print(test.shape)\n",
    "clean_test = test.drop(['index', 'check_sum'], axis=1)\n",
    "\n",
    "generate_prediction(\"model_path\", \"model_name\", Y, clean_test, verbose = True)"
   ]
  },
  {
   "cell_type": "code",
   "execution_count": null,
   "metadata": {},
   "outputs": [],
   "source": []
  },
  {
   "cell_type": "code",
   "execution_count": null,
   "metadata": {},
   "outputs": [],
   "source": [
    "id_lookup = pickle.load( open( \"../Data/id_lookup.p\", \"rb\" ) )\n",
    "print list(set(id_lookup.ima)-set(Z))"
   ]
  },
  {
   "source": [
    "## Model"
   ],
   "cell_type": "markdown",
   "metadata": {}
  },
  {
   "cell_type": "code",
   "execution_count": 9,
   "metadata": {},
   "outputs": [
    {
     "output_type": "stream",
     "name": "stdout",
     "text": [
      "Opening file:  clean_all_outliers.p\n",
      "Augmenting Data\n"
     ]
    },
    {
     "output_type": "error",
     "ename": "NameError",
     "evalue": "name 'augment_missing_data' is not defined",
     "traceback": [
      "\u001b[1;31m---------------------------------------------------------------------------\u001b[0m",
      "\u001b[1;31mNameError\u001b[0m                                 Traceback (most recent call last)",
      "\u001b[1;32m<ipython-input-9-249184dced08>\u001b[0m in \u001b[0;36m<module>\u001b[1;34m\u001b[0m\n\u001b[0;32m      9\u001b[0m     \u001b[0mprint\u001b[0m\u001b[1;33m(\u001b[0m\u001b[1;34m\"Augmenting Data\"\u001b[0m\u001b[1;33m)\u001b[0m\u001b[1;33m\u001b[0m\u001b[1;33m\u001b[0m\u001b[0m\n\u001b[0;32m     10\u001b[0m     \u001b[0mtrain_data\u001b[0m\u001b[1;33m.\u001b[0m\u001b[0mrename\u001b[0m\u001b[1;33m(\u001b[0m\u001b[0mcolumns\u001b[0m \u001b[1;33m=\u001b[0m \u001b[1;33m{\u001b[0m\u001b[1;34m'level_0'\u001b[0m \u001b[1;33m:\u001b[0m \u001b[1;34m'index'\u001b[0m\u001b[1;33m}\u001b[0m\u001b[1;33m,\u001b[0m \u001b[0minplace\u001b[0m \u001b[1;33m=\u001b[0m \u001b[1;32mTrue\u001b[0m\u001b[1;33m)\u001b[0m\u001b[1;33m\u001b[0m\u001b[1;33m\u001b[0m\u001b[0m\n\u001b[1;32m---> 11\u001b[1;33m     \u001b[0maugmented_data\u001b[0m \u001b[1;33m=\u001b[0m \u001b[0maugment_missing_data\u001b[0m\u001b[1;33m(\u001b[0m\u001b[0mtrain_data\u001b[0m\u001b[1;33m.\u001b[0m\u001b[0mloc\u001b[0m\u001b[1;33m[\u001b[0m\u001b[1;33m:\u001b[0m\u001b[1;33m,\u001b[0m \u001b[0mtrain_data\u001b[0m\u001b[1;33m.\u001b[0m\u001b[0mcolumns\u001b[0m \u001b[1;33m!=\u001b[0m \u001b[1;34m'image'\u001b[0m\u001b[1;33m]\u001b[0m\u001b[1;33m)\u001b[0m\u001b[1;33m\u001b[0m\u001b[1;33m\u001b[0m\u001b[0m\n\u001b[0m\u001b[0;32m     12\u001b[0m     \u001b[0mprint\u001b[0m\u001b[1;33m(\u001b[0m\u001b[1;34m\"Augmented data shape: \"\u001b[0m\u001b[1;33m,\u001b[0m \u001b[0maugmented_data\u001b[0m\u001b[1;33m.\u001b[0m\u001b[0mshape\u001b[0m\u001b[1;33m)\u001b[0m\u001b[1;33m\u001b[0m\u001b[1;33m\u001b[0m\u001b[0m\n\u001b[0;32m     13\u001b[0m \u001b[1;33m\u001b[0m\u001b[0m\n",
      "\u001b[1;31mNameError\u001b[0m: name 'augment_missing_data' is not defined"
     ]
    }
   ],
   "source": [
    "import os\n",
    "files = os.listdir(\"../CleanTrain\")\n",
    "\n",
    "for filename in files:\n",
    "    print(\"Opening file: \", filename)\n",
    "    clean_file = \"\".join((\"../CleanTrain/\",filename))\n",
    "    train_data = pickle.load( open( clean_file, \"rb\" ) )\n",
    "    \n",
    "    print(\"Augmenting Data\")\n",
    "    train_data.rename(columns = {'level_0' : 'index'}, inplace = True)\n",
    "    augmented_data = augment_missing_data(train_data.loc[:, train_data.columns != 'image'])\n",
    "    print(\"Augmented data shape: \", augmented_data.shape)\n",
    "\n",
    "    print(\"Pickle Augmented file\")\n",
    "    aug_file = \"\".join((\"c:/Data/Augmented/aug_\",filename))\n",
    "    #Pickle train and test so that we can jump in with cleaning this data\n",
    "    pickle.dump( augmented_data, open( aug_file, \"wb\" ) )\n",
    "    print()"
   ]
  },
  {
   "cell_type": "code",
   "execution_count": 1,
   "metadata": {},
   "outputs": [
    {
     "output_type": "error",
     "ename": "ModuleNotFoundError",
     "evalue": "No module named 'utils'",
     "traceback": [
      "\u001b[1;31m---------------------------------------------------------------------------\u001b[0m",
      "\u001b[1;31mModuleNotFoundError\u001b[0m                       Traceback (most recent call last)",
      "\u001b[1;32m<ipython-input-1-dc26e37f7029>\u001b[0m in \u001b[0;36m<module>\u001b[1;34m\u001b[0m\n\u001b[0;32m      1\u001b[0m \u001b[1;31m### this is gold right here.\u001b[0m\u001b[1;33m\u001b[0m\u001b[1;33m\u001b[0m\u001b[1;33m\u001b[0m\u001b[0m\n\u001b[1;32m----> 2\u001b[1;33m \u001b[1;32mimport\u001b[0m \u001b[0mload_models\u001b[0m\u001b[1;33m\u001b[0m\u001b[1;33m\u001b[0m\u001b[0m\n\u001b[0m\u001b[0;32m      3\u001b[0m \u001b[1;32mimport\u001b[0m \u001b[0mimp\u001b[0m\u001b[1;33m\u001b[0m\u001b[1;33m\u001b[0m\u001b[0m\n\u001b[0;32m      4\u001b[0m \u001b[0mimp\u001b[0m\u001b[1;33m.\u001b[0m\u001b[0mreload\u001b[0m\u001b[1;33m(\u001b[0m\u001b[0mload_models\u001b[0m\u001b[1;33m)\u001b[0m\u001b[1;33m\u001b[0m\u001b[1;33m\u001b[0m\u001b[0m\n\u001b[0;32m      5\u001b[0m \u001b[1;31m#(self, model_dir, pickle_path, verbose = False)\u001b[0m\u001b[1;33m\u001b[0m\u001b[1;33m\u001b[0m\u001b[1;33m\u001b[0m\u001b[0m\n",
      "\u001b[1;32mc:\\Users\\mspuc\\OneDrive\\Berkeley\\A - W207\\Final\\blackboxes\\utils\\load_models.py\u001b[0m in \u001b[0;36m<module>\u001b[1;34m\u001b[0m\n\u001b[0;32m      5\u001b[0m \u001b[1;32mimport\u001b[0m \u001b[0mpandas\u001b[0m \u001b[1;32mas\u001b[0m \u001b[0mpd\u001b[0m\u001b[1;33m\u001b[0m\u001b[1;33m\u001b[0m\u001b[0m\n\u001b[0;32m      6\u001b[0m \u001b[1;32mimport\u001b[0m \u001b[0mnumpy\u001b[0m \u001b[1;32mas\u001b[0m \u001b[0mnp\u001b[0m\u001b[1;33m\u001b[0m\u001b[1;33m\u001b[0m\u001b[0m\n\u001b[1;32m----> 7\u001b[1;33m \u001b[1;32mfrom\u001b[0m \u001b[0mutils\u001b[0m \u001b[1;32mimport\u001b[0m \u001b[0mtransform_data\u001b[0m\u001b[1;33m\u001b[0m\u001b[1;33m\u001b[0m\u001b[0m\n\u001b[0m\u001b[0;32m      8\u001b[0m \u001b[1;32mimport\u001b[0m \u001b[0margparse\u001b[0m\u001b[1;33m\u001b[0m\u001b[1;33m\u001b[0m\u001b[0m\n\u001b[0;32m      9\u001b[0m \u001b[1;32mimport\u001b[0m \u001b[0mpickle\u001b[0m\u001b[1;33m\u001b[0m\u001b[1;33m\u001b[0m\u001b[0m\n",
      "\u001b[1;31mModuleNotFoundError\u001b[0m: No module named 'utils'"
     ]
    }
   ],
   "source": [
    "### this is gold right here.\n",
    "import load_models\n",
    "import imp\n",
    "imp.reload(load_models)\n",
    "#(self, model_dir, pickle_path, verbose = False)\n",
    "trainer = load_models.LoadTrainModels(\"C:/data/Jackie_Lenet5\", \"../CleanTrain\")\n",
    "\n",
    "trainer.print_paths()"
   ]
  },
  {
   "cell_type": "code",
   "execution_count": 2,
   "metadata": {
    "tags": []
   },
   "outputs": [
    {
     "output_type": "stream",
     "name": "stdout",
     "text": [
      "Opening file:  clean_all_outliers.p\n",
      "Train Shape: (2140, 31)\n",
      "Begin model and train:\n",
      "Model name: clean_all_outliers_Lenet5\n",
      "Scaling 2140 images...\n",
      "Scaling of 2140 observations complete.\n",
      "Begining the split of Train with all features\n",
      "Looking for model LeNet5\n",
      "LeNet5 model file not found. Model creation begnining\n",
      "Model: \"sequential\"\n",
      "_________________________________________________________________\n",
      "Layer (type)                 Output Shape              Param #   \n",
      "=================================================================\n",
      "conv2d (Conv2D)              (None, 94, 94, 6)         60        \n",
      "_________________________________________________________________\n",
      "re_lu (ReLU)                 (None, 94, 94, 6)         0         \n",
      "_________________________________________________________________\n",
      "average_pooling2d (AveragePo (None, 47, 47, 6)         0         \n",
      "_________________________________________________________________\n",
      "conv2d_1 (Conv2D)            (None, 45, 45, 16)        880       \n",
      "_________________________________________________________________\n",
      "re_lu_1 (ReLU)               (None, 45, 45, 16)        0         \n",
      "_________________________________________________________________\n",
      "average_pooling2d_1 (Average (None, 22, 22, 16)        0         \n",
      "_________________________________________________________________\n",
      "flatten (Flatten)            (None, 7744)              0         \n",
      "_________________________________________________________________\n",
      "dense (Dense)                (None, 512)               3965440   \n",
      "_________________________________________________________________\n",
      "re_lu_2 (ReLU)               (None, 512)               0         \n",
      "_________________________________________________________________\n",
      "dense_1 (Dense)              (None, 256)               131328    \n",
      "_________________________________________________________________\n",
      "re_lu_3 (ReLU)               (None, 256)               0         \n",
      "_________________________________________________________________\n",
      "dense_2 (Dense)              (None, 30)                7710      \n",
      "=================================================================\n",
      "Total params: 4,105,418\n",
      "Trainable params: 4,105,418\n",
      "Non-trainable params: 0\n",
      "_________________________________________________________________\n",
      "None\n",
      "Done compiling\n",
      "Epoch 1/300\n",
      "17/17 [==============================] - 8s 111ms/step - loss: 0.1065 - mae: 0.2367 - mse: 0.1065 - val_loss: 0.0158 - val_mae: 0.0995 - val_mse: 0.0158\n",
      "\n",
      "Epoch 00001: val_mae improved from inf to 0.09951, saving model to C:/data/Jackie_Lenet5\\clean_all_outliers_Lenet5.h5\n",
      "Epoch 2/300\n",
      "17/17 [==============================] - 0s 17ms/step - loss: 0.0148 - mae: 0.0918 - mse: 0.0148 - val_loss: 0.0087 - val_mae: 0.0730 - val_mse: 0.0087\n",
      "\n",
      "Epoch 00002: val_mae improved from 0.09951 to 0.07304, saving model to C:/data/Jackie_Lenet5\\clean_all_outliers_Lenet5.h5\n",
      "Epoch 3/300\n",
      "17/17 [==============================] - 0s 18ms/step - loss: 0.0069 - mae: 0.0626 - mse: 0.0069 - val_loss: 0.0052 - val_mae: 0.0550 - val_mse: 0.0052\n",
      "\n",
      "Epoch 00003: val_mae improved from 0.07304 to 0.05504, saving model to C:/data/Jackie_Lenet5\\clean_all_outliers_Lenet5.h5\n",
      "Epoch 4/300\n",
      "17/17 [==============================] - 0s 17ms/step - loss: 0.0044 - mae: 0.0487 - mse: 0.0044 - val_loss: 0.0050 - val_mae: 0.0536 - val_mse: 0.0050\n",
      "\n",
      "Epoch 00004: val_mae improved from 0.05504 to 0.05357, saving model to C:/data/Jackie_Lenet5\\clean_all_outliers_Lenet5.h5\n",
      "Epoch 5/300\n",
      "17/17 [==============================] - 0s 17ms/step - loss: 0.0037 - mae: 0.0444 - mse: 0.0037 - val_loss: 0.0042 - val_mae: 0.0487 - val_mse: 0.0042\n",
      "\n",
      "Epoch 00005: val_mae improved from 0.05357 to 0.04870, saving model to C:/data/Jackie_Lenet5\\clean_all_outliers_Lenet5.h5\n",
      "Epoch 6/300\n",
      "17/17 [==============================] - 0s 18ms/step - loss: 0.0033 - mae: 0.0412 - mse: 0.0033 - val_loss: 0.0035 - val_mae: 0.0442 - val_mse: 0.0035\n",
      "\n",
      "Epoch 00006: val_mae improved from 0.04870 to 0.04416, saving model to C:/data/Jackie_Lenet5\\clean_all_outliers_Lenet5.h5\n",
      "Epoch 7/300\n",
      "17/17 [==============================] - 0s 17ms/step - loss: 0.0028 - mae: 0.0379 - mse: 0.0028 - val_loss: 0.0032 - val_mae: 0.0416 - val_mse: 0.0032\n",
      "\n",
      "Epoch 00007: val_mae improved from 0.04416 to 0.04162, saving model to C:/data/Jackie_Lenet5\\clean_all_outliers_Lenet5.h5\n",
      "Epoch 8/300\n",
      "17/17 [==============================] - 0s 17ms/step - loss: 0.0022 - mae: 0.0345 - mse: 0.0022 - val_loss: 0.0025 - val_mae: 0.0375 - val_mse: 0.0025\n",
      "\n",
      "Epoch 00008: val_mae improved from 0.04162 to 0.03755, saving model to C:/data/Jackie_Lenet5\\clean_all_outliers_Lenet5.h5\n",
      "Epoch 9/300\n",
      "17/17 [==============================] - 0s 17ms/step - loss: 0.0019 - mae: 0.0316 - mse: 0.0019 - val_loss: 0.0022 - val_mae: 0.0346 - val_mse: 0.0022\n",
      "\n",
      "Epoch 00009: val_mae improved from 0.03755 to 0.03458, saving model to C:/data/Jackie_Lenet5\\clean_all_outliers_Lenet5.h5\n",
      "Epoch 10/300\n",
      "17/17 [==============================] - 0s 17ms/step - loss: 0.0017 - mae: 0.0297 - mse: 0.0017 - val_loss: 0.0020 - val_mae: 0.0334 - val_mse: 0.0020\n",
      "\n",
      "Epoch 00010: val_mae improved from 0.03458 to 0.03340, saving model to C:/data/Jackie_Lenet5\\clean_all_outliers_Lenet5.h5\n",
      "Epoch 11/300\n",
      "17/17 [==============================] - 0s 18ms/step - loss: 0.0016 - mae: 0.0283 - mse: 0.0016 - val_loss: 0.0021 - val_mae: 0.0342 - val_mse: 0.0021\n",
      "\n",
      "Epoch 00011: val_mae did not improve from 0.03340\n",
      "Epoch 12/300\n",
      "17/17 [==============================] - 0s 17ms/step - loss: 0.0015 - mae: 0.0283 - mse: 0.0015 - val_loss: 0.0018 - val_mae: 0.0321 - val_mse: 0.0018\n",
      "\n",
      "Epoch 00012: val_mae improved from 0.03340 to 0.03207, saving model to C:/data/Jackie_Lenet5\\clean_all_outliers_Lenet5.h5\n",
      "Epoch 13/300\n",
      "17/17 [==============================] - 0s 17ms/step - loss: 0.0015 - mae: 0.0276 - mse: 0.0015 - val_loss: 0.0023 - val_mae: 0.0361 - val_mse: 0.0023\n",
      "\n",
      "Epoch 00013: val_mae did not improve from 0.03207\n",
      "Epoch 14/300\n",
      "17/17 [==============================] - 0s 19ms/step - loss: 0.0014 - mae: 0.0271 - mse: 0.0014 - val_loss: 0.0018 - val_mae: 0.0318 - val_mse: 0.0018\n",
      "\n",
      "Epoch 00014: val_mae improved from 0.03207 to 0.03176, saving model to C:/data/Jackie_Lenet5\\clean_all_outliers_Lenet5.h5\n",
      "Epoch 15/300\n",
      "17/17 [==============================] - 0s 17ms/step - loss: 0.0012 - mae: 0.0249 - mse: 0.0012 - val_loss: 0.0020 - val_mae: 0.0332 - val_mse: 0.0020\n",
      "\n",
      "Epoch 00015: val_mae did not improve from 0.03176\n",
      "Epoch 16/300\n",
      "17/17 [==============================] - 0s 17ms/step - loss: 0.0013 - mae: 0.0251 - mse: 0.0013 - val_loss: 0.0017 - val_mae: 0.0307 - val_mse: 0.0017\n",
      "\n",
      "Epoch 00016: val_mae improved from 0.03176 to 0.03073, saving model to C:/data/Jackie_Lenet5\\clean_all_outliers_Lenet5.h5\n",
      "Epoch 17/300\n",
      "17/17 [==============================] - 0s 18ms/step - loss: 0.0013 - mae: 0.0257 - mse: 0.0013 - val_loss: 0.0018 - val_mae: 0.0313 - val_mse: 0.0018\n",
      "\n",
      "Epoch 00017: val_mae did not improve from 0.03073\n",
      "Epoch 18/300\n",
      "17/17 [==============================] - 0s 17ms/step - loss: 0.0012 - mae: 0.0244 - mse: 0.0012 - val_loss: 0.0019 - val_mae: 0.0323 - val_mse: 0.0019\n",
      "\n",
      "Epoch 00018: val_mae did not improve from 0.03073\n",
      "Epoch 19/300\n",
      "17/17 [==============================] - 0s 20ms/step - loss: 9.9394e-04 - mae: 0.0227 - mse: 9.9394e-04 - val_loss: 0.0019 - val_mae: 0.0320 - val_mse: 0.0019\n",
      "\n",
      "Epoch 00019: val_mae did not improve from 0.03073\n",
      "Epoch 20/300\n",
      "17/17 [==============================] - 0s 17ms/step - loss: 0.0011 - mae: 0.0235 - mse: 0.0011 - val_loss: 0.0018 - val_mae: 0.0315 - val_mse: 0.0018\n",
      "\n",
      "Epoch 00020: val_mae did not improve from 0.03073\n",
      "Epoch 21/300\n",
      "17/17 [==============================] - 0s 18ms/step - loss: 9.9415e-04 - mae: 0.0224 - mse: 9.9415e-04 - val_loss: 0.0018 - val_mae: 0.0312 - val_mse: 0.0018\n",
      "\n",
      "Epoch 00021: val_mae did not improve from 0.03073\n",
      "Epoch 22/300\n",
      "17/17 [==============================] - 0s 18ms/step - loss: 9.6037e-04 - mae: 0.0220 - mse: 9.6037e-04 - val_loss: 0.0018 - val_mae: 0.0315 - val_mse: 0.0018\n",
      "\n",
      "Epoch 00022: val_mae did not improve from 0.03073\n",
      "Epoch 23/300\n",
      "17/17 [==============================] - 0s 19ms/step - loss: 9.7752e-04 - mae: 0.0223 - mse: 9.7752e-04 - val_loss: 0.0018 - val_mae: 0.0321 - val_mse: 0.0018\n",
      "\n",
      "Epoch 00023: val_mae did not improve from 0.03073\n",
      "Epoch 24/300\n",
      "17/17 [==============================] - 0s 18ms/step - loss: 9.3317e-04 - mae: 0.0215 - mse: 9.3317e-04 - val_loss: 0.0020 - val_mae: 0.0330 - val_mse: 0.0020\n",
      "\n",
      "Epoch 00024: val_mae did not improve from 0.03073\n",
      "Epoch 25/300\n",
      "17/17 [==============================] - 0s 17ms/step - loss: 8.8812e-04 - mae: 0.0218 - mse: 8.8812e-04 - val_loss: 0.0018 - val_mae: 0.0314 - val_mse: 0.0018\n",
      "\n",
      "Epoch 00025: val_mae did not improve from 0.03073\n",
      "Epoch 26/300\n",
      "17/17 [==============================] - 0s 17ms/step - loss: 9.0858e-04 - mae: 0.0220 - mse: 9.0858e-04 - val_loss: 0.0019 - val_mae: 0.0323 - val_mse: 0.0019\n",
      "\n",
      "Epoch 00026: val_mae did not improve from 0.03073\n",
      "Epoch 27/300\n",
      "17/17 [==============================] - 0s 17ms/step - loss: 8.7256e-04 - mae: 0.0212 - mse: 8.7256e-04 - val_loss: 0.0023 - val_mae: 0.0357 - val_mse: 0.0023\n",
      "\n",
      "Epoch 00027: val_mae did not improve from 0.03073\n",
      "Epoch 28/300\n",
      "17/17 [==============================] - 0s 17ms/step - loss: 8.7450e-04 - mae: 0.0214 - mse: 8.7450e-04 - val_loss: 0.0017 - val_mae: 0.0302 - val_mse: 0.0017\n",
      "\n",
      "Epoch 00028: val_mae improved from 0.03073 to 0.03019, saving model to C:/data/Jackie_Lenet5\\clean_all_outliers_Lenet5.h5\n",
      "Epoch 29/300\n",
      "17/17 [==============================] - 0s 17ms/step - loss: 7.9360e-04 - mae: 0.0202 - mse: 7.9360e-04 - val_loss: 0.0023 - val_mae: 0.0357 - val_mse: 0.0023\n",
      "\n",
      "Epoch 00029: val_mae did not improve from 0.03019\n",
      "Epoch 30/300\n",
      "17/17 [==============================] - 0s 18ms/step - loss: 8.5302e-04 - mae: 0.0215 - mse: 8.5302e-04 - val_loss: 0.0017 - val_mae: 0.0308 - val_mse: 0.0017\n",
      "\n",
      "Epoch 00030: val_mae did not improve from 0.03019\n",
      "Epoch 31/300\n",
      "17/17 [==============================] - 0s 17ms/step - loss: 7.3328e-04 - mae: 0.0196 - mse: 7.3328e-04 - val_loss: 0.0017 - val_mae: 0.0308 - val_mse: 0.0017\n",
      "\n",
      "Epoch 00031: val_mae did not improve from 0.03019\n",
      "Epoch 32/300\n",
      "17/17 [==============================] - 0s 18ms/step - loss: 7.5999e-04 - mae: 0.0203 - mse: 7.5999e-04 - val_loss: 0.0017 - val_mae: 0.0309 - val_mse: 0.0017\n",
      "\n",
      "Epoch 00032: val_mae did not improve from 0.03019\n",
      "Epoch 33/300\n",
      "17/17 [==============================] - 0s 18ms/step - loss: 7.0587e-04 - mae: 0.0193 - mse: 7.0587e-04 - val_loss: 0.0020 - val_mae: 0.0336 - val_mse: 0.0020\n",
      "\n",
      "Epoch 00033: val_mae did not improve from 0.03019\n",
      "Epoch 34/300\n",
      "17/17 [==============================] - 0s 18ms/step - loss: 7.3409e-04 - mae: 0.0198 - mse: 7.3409e-04 - val_loss: 0.0016 - val_mae: 0.0298 - val_mse: 0.0016\n",
      "\n",
      "Epoch 00034: val_mae improved from 0.03019 to 0.02983, saving model to C:/data/Jackie_Lenet5\\clean_all_outliers_Lenet5.h5\n",
      "Epoch 35/300\n",
      "17/17 [==============================] - 0s 17ms/step - loss: 6.7190e-04 - mae: 0.0189 - mse: 6.7190e-04 - val_loss: 0.0018 - val_mae: 0.0312 - val_mse: 0.0018\n",
      "\n",
      "Epoch 00035: val_mae did not improve from 0.02983\n",
      "Epoch 36/300\n",
      "17/17 [==============================] - 0s 18ms/step - loss: 6.7975e-04 - mae: 0.0189 - mse: 6.7975e-04 - val_loss: 0.0017 - val_mae: 0.0302 - val_mse: 0.0017\n",
      "\n",
      "Epoch 00036: val_mae did not improve from 0.02983\n",
      "Epoch 37/300\n",
      "17/17 [==============================] - 0s 16ms/step - loss: 6.1757e-04 - mae: 0.0182 - mse: 6.1757e-04 - val_loss: 0.0017 - val_mae: 0.0310 - val_mse: 0.0017\n",
      "\n",
      "Epoch 00037: val_mae did not improve from 0.02983\n",
      "Epoch 38/300\n",
      "17/17 [==============================] - 0s 17ms/step - loss: 6.0473e-04 - mae: 0.0181 - mse: 6.0473e-04 - val_loss: 0.0016 - val_mae: 0.0301 - val_mse: 0.0016\n",
      "\n",
      "Epoch 00038: val_mae did not improve from 0.02983\n",
      "Epoch 39/300\n",
      "17/17 [==============================] - 0s 17ms/step - loss: 6.0758e-04 - mae: 0.0181 - mse: 6.0758e-04 - val_loss: 0.0018 - val_mae: 0.0316 - val_mse: 0.0018\n",
      "\n",
      "Epoch 00039: val_mae did not improve from 0.02983\n",
      "Epoch 40/300\n",
      "17/17 [==============================] - 0s 17ms/step - loss: 6.7724e-04 - mae: 0.0194 - mse: 6.7724e-04 - val_loss: 0.0020 - val_mae: 0.0337 - val_mse: 0.0020\n",
      "\n",
      "Epoch 00040: val_mae did not improve from 0.02983\n",
      "Epoch 41/300\n",
      "17/17 [==============================] - 0s 16ms/step - loss: 6.2713e-04 - mae: 0.0187 - mse: 6.2713e-04 - val_loss: 0.0017 - val_mae: 0.0302 - val_mse: 0.0017\n",
      "\n",
      "Epoch 00041: val_mae did not improve from 0.02983\n",
      "Epoch 42/300\n",
      "17/17 [==============================] - 0s 17ms/step - loss: 6.1008e-04 - mae: 0.0184 - mse: 6.1008e-04 - val_loss: 0.0019 - val_mae: 0.0322 - val_mse: 0.0019\n",
      "\n",
      "Epoch 00042: val_mae did not improve from 0.02983\n",
      "Epoch 43/300\n",
      "17/17 [==============================] - 0s 18ms/step - loss: 5.1610e-04 - mae: 0.0168 - mse: 5.1610e-04 - val_loss: 0.0016 - val_mae: 0.0299 - val_mse: 0.0016\n",
      "\n",
      "Epoch 00043: val_mae did not improve from 0.02983\n",
      "Epoch 44/300\n",
      "17/17 [==============================] - 0s 16ms/step - loss: 5.8668e-04 - mae: 0.0181 - mse: 5.8668e-04 - val_loss: 0.0016 - val_mae: 0.0298 - val_mse: 0.0016\n",
      "\n",
      "Epoch 00044: val_mae improved from 0.02983 to 0.02976, saving model to C:/data/Jackie_Lenet5\\clean_all_outliers_Lenet5.h5\n",
      "Epoch 45/300\n",
      "17/17 [==============================] - 0s 18ms/step - loss: 5.3434e-04 - mae: 0.0170 - mse: 5.3434e-04 - val_loss: 0.0018 - val_mae: 0.0312 - val_mse: 0.0018\n",
      "\n",
      "Epoch 00045: val_mae did not improve from 0.02976\n",
      "Epoch 46/300\n",
      "17/17 [==============================] - 0s 19ms/step - loss: 5.1647e-04 - mae: 0.0166 - mse: 5.1647e-04 - val_loss: 0.0019 - val_mae: 0.0320 - val_mse: 0.0019\n",
      "\n",
      "Epoch 00046: val_mae did not improve from 0.02976\n",
      "Epoch 47/300\n",
      "17/17 [==============================] - 0s 18ms/step - loss: 5.2561e-04 - mae: 0.0170 - mse: 5.2561e-04 - val_loss: 0.0018 - val_mae: 0.0313 - val_mse: 0.0018\n",
      "\n",
      "Epoch 00047: val_mae did not improve from 0.02976\n",
      "Epoch 48/300\n",
      "17/17 [==============================] - 0s 18ms/step - loss: 5.0668e-04 - mae: 0.0167 - mse: 5.0668e-04 - val_loss: 0.0017 - val_mae: 0.0308 - val_mse: 0.0017\n",
      "\n",
      "Epoch 00048: val_mae did not improve from 0.02976\n",
      "Epoch 49/300\n",
      "17/17 [==============================] - 0s 18ms/step - loss: 4.9239e-04 - mae: 0.0166 - mse: 4.9239e-04 - val_loss: 0.0018 - val_mae: 0.0315 - val_mse: 0.0018\n",
      "\n",
      "Epoch 00049: val_mae did not improve from 0.02976\n",
      "Epoch 50/300\n",
      "17/17 [==============================] - 0s 16ms/step - loss: 4.4325e-04 - mae: 0.0157 - mse: 4.4325e-04 - val_loss: 0.0017 - val_mae: 0.0305 - val_mse: 0.0017\n",
      "\n",
      "Epoch 00050: val_mae did not improve from 0.02976\n",
      "Epoch 51/300\n",
      "17/17 [==============================] - 0s 17ms/step - loss: 4.5478e-04 - mae: 0.0158 - mse: 4.5478e-04 - val_loss: 0.0016 - val_mae: 0.0301 - val_mse: 0.0016\n",
      "\n",
      "Epoch 00051: val_mae did not improve from 0.02976\n",
      "Epoch 52/300\n",
      "17/17 [==============================] - 0s 19ms/step - loss: 5.0124e-04 - mae: 0.0167 - mse: 5.0124e-04 - val_loss: 0.0017 - val_mae: 0.0302 - val_mse: 0.0017\n",
      "\n",
      "Epoch 00052: val_mae did not improve from 0.02976\n",
      "Epoch 53/300\n",
      "17/17 [==============================] - 0s 16ms/step - loss: 4.5843e-04 - mae: 0.0160 - mse: 4.5843e-04 - val_loss: 0.0018 - val_mae: 0.0313 - val_mse: 0.0018\n",
      "\n",
      "Epoch 00053: val_mae did not improve from 0.02976\n",
      "Epoch 54/300\n",
      "17/17 [==============================] - 0s 17ms/step - loss: 4.4853e-04 - mae: 0.0159 - mse: 4.4853e-04 - val_loss: 0.0019 - val_mae: 0.0327 - val_mse: 0.0019\n",
      "\n",
      "Epoch 00054: val_mae did not improve from 0.02976\n",
      "Epoch 55/300\n",
      "17/17 [==============================] - 0s 16ms/step - loss: 4.4984e-04 - mae: 0.0158 - mse: 4.4984e-04 - val_loss: 0.0017 - val_mae: 0.0308 - val_mse: 0.0017\n",
      "\n",
      "Epoch 00055: val_mae did not improve from 0.02976\n",
      "Epoch 56/300\n",
      "17/17 [==============================] - 0s 17ms/step - loss: 4.0303e-04 - mae: 0.0150 - mse: 4.0303e-04 - val_loss: 0.0017 - val_mae: 0.0303 - val_mse: 0.0017\n",
      "\n",
      "Epoch 00056: val_mae did not improve from 0.02976\n",
      "Epoch 57/300\n",
      "17/17 [==============================] - 0s 16ms/step - loss: 4.1790e-04 - mae: 0.0153 - mse: 4.1790e-04 - val_loss: 0.0018 - val_mae: 0.0309 - val_mse: 0.0018\n",
      "\n",
      "Epoch 00057: val_mae did not improve from 0.02976\n",
      "Epoch 58/300\n",
      "17/17 [==============================] - 0s 17ms/step - loss: 4.8363e-04 - mae: 0.0167 - mse: 4.8363e-04 - val_loss: 0.0018 - val_mae: 0.0313 - val_mse: 0.0018\n",
      "\n",
      "Epoch 00058: val_mae did not improve from 0.02976\n",
      "Epoch 59/300\n",
      "17/17 [==============================] - 0s 18ms/step - loss: 4.0564e-04 - mae: 0.0150 - mse: 4.0564e-04 - val_loss: 0.0019 - val_mae: 0.0324 - val_mse: 0.0019\n",
      "\n",
      "Epoch 00059: val_mae did not improve from 0.02976\n",
      "Epoch 60/300\n",
      "17/17 [==============================] - 0s 17ms/step - loss: 4.2536e-04 - mae: 0.0155 - mse: 4.2536e-04 - val_loss: 0.0017 - val_mae: 0.0302 - val_mse: 0.0017\n",
      "\n",
      "Epoch 00060: val_mae did not improve from 0.02976\n",
      "Epoch 61/300\n",
      "17/17 [==============================] - 0s 19ms/step - loss: 4.1767e-04 - mae: 0.0154 - mse: 4.1767e-04 - val_loss: 0.0017 - val_mae: 0.0299 - val_mse: 0.0017\n",
      "\n",
      "Epoch 00061: val_mae did not improve from 0.02976\n",
      "Epoch 62/300\n",
      "17/17 [==============================] - 0s 16ms/step - loss: 3.8801e-04 - mae: 0.0148 - mse: 3.8801e-04 - val_loss: 0.0018 - val_mae: 0.0311 - val_mse: 0.0018\n",
      "\n",
      "Epoch 00062: val_mae did not improve from 0.02976\n",
      "Epoch 63/300\n",
      "17/17 [==============================] - 0s 17ms/step - loss: 3.6303e-04 - mae: 0.0142 - mse: 3.6303e-04 - val_loss: 0.0017 - val_mae: 0.0302 - val_mse: 0.0017\n",
      "\n",
      "Epoch 00063: val_mae did not improve from 0.02976\n",
      "Epoch 64/300\n",
      "17/17 [==============================] - 0s 18ms/step - loss: 3.6218e-04 - mae: 0.0143 - mse: 3.6218e-04 - val_loss: 0.0017 - val_mae: 0.0301 - val_mse: 0.0017\n",
      "\n",
      "Epoch 00064: val_mae did not improve from 0.02976\n",
      "Epoch 00064: early stopping\n",
      "Done fitting\n",
      "clean_all_outliers_Lenet5 model created and file saved for future use.\n",
      "End model and train\n",
      "\n"
     ]
    }
   ],
   "source": [
    "### this is gold right here.\n",
    "#train_lenet5(self, model_name, pickle_file, split=True, X=None, Y=None, verbose = True)\n",
    "import os\n",
    "import imp\n",
    "import pickle\n",
    "\n",
    "imp.reload(load_models)\n",
    "\n",
    "files = os.listdir(\"../CleanTrain\")\n",
    "\n",
    "for filename in files:\n",
    "    \n",
    "    print(\"Opening file: \", filename)\n",
    "    clean_file = \"\".join((\"../CleanTrain/\",filename))\n",
    "    train_data = pickle.load( open( clean_file, \"rb\" ) )\n",
    "    train_data = train_data.drop(['level_0', 'check_sum', 'index'], axis=1,errors='ignore')\n",
    "    \n",
    "    #only take the items with 30 features\n",
    "    train_data = train_data[(train_data.isnull().sum(axis=1) == 0)]\n",
    "    \n",
    "    print(\"Train Shape:\", train_data.shape)\n",
    "\n",
    "    filename = str(filename).replace('.p', '').strip()\n",
    "    print(\"Begin model and train:\")\n",
    "    model_name = \"\".join((filename,\"_Lenet5\"))\n",
    "    print(\"Model name:\", model_name)\n",
    "    model, history = trainer.train_lenet5(model_name, train_data,verbose = True)\n",
    "    print(\"End model and train\")    \n",
    "    print()\n",
    "\n",
    "\n"
   ]
  },
  {
   "cell_type": "code",
   "execution_count": 1,
   "metadata": {},
   "outputs": [
    {
     "output_type": "execute_result",
     "data": {
      "text/plain": [
       "True"
      ]
     },
     "metadata": {},
     "execution_count": 1
    }
   ],
   "source": [
    "import torch\n",
    "torch.cuda.is_available()"
   ]
  },
  {
   "source": [
    "# Predict\n"
   ],
   "cell_type": "markdown",
   "metadata": {}
  },
  {
   "cell_type": "code",
   "execution_count": 4,
   "metadata": {},
   "outputs": [
    {
     "output_type": "stream",
     "name": "stdout",
     "text": [
      "Model dir: C:/data/Jackie_Lenet5/\nPickle dir: C:/data/Predictions/\n"
     ]
    }
   ],
   "source": [
    "### this is gold right here.\n",
    "import predict_models\n",
    "import imp\n",
    "imp.reload(predict_models)\n",
    "\n",
    "\n",
    "id_lookup = pickle.load( open( \"../Data/id_lookup.p\", \"rb\" ) )\n",
    "#(self, model_dir,pred_dir, ids, verbose = False):\n",
    "predictor = predict_models.PredictModels(\"C:/data/Jackie_Lenet5\", \"C:/data/Predictions/\", id_lookup)\n",
    "\n",
    "predictor.print_paths()\n",
    "\n"
   ]
  },
  {
   "cell_type": "code",
   "execution_count": 23,
   "metadata": {},
   "outputs": [
    {
     "output_type": "stream",
     "name": "stdout",
     "text": [
      "Scaling 1783 images...\n",
      "Scaling of 1783 observations complete.\n",
      "Begining the split of Test\n",
      "got unique ids\n",
      "test subset shape: (1783, 4)\n",
      "End with the split of Test\n",
      "(27124, 4)\n",
      "before melt: (1783, 30)\n",
      "after melt: (53490, 3)\n",
      "after merge: (27124, 2)\n",
      "C:/data/Predictions/clean_all_outliers_Lenet5Pred.csv\n",
      "Predictions written \n"
     ]
    }
   ],
   "source": [
    "#single test of predict.\n",
    "#predict_lenet5(self, model_name,model_file, model_json, test, scale = True, X=None, verbose = False)\n",
    "test = pickle.load( open( \"../data/test.p\", \"rb\" ) )\n",
    "model_file = \"clean_all_outliers_Lenet5.h5\"\n",
    "model_json = \"clean_all_outliers_Lenet5.json\"\n",
    "base_name = filename[:-3]\n",
    "Y= predictor.predict_lenet5(\"clean_all_outliers_Lenet5\", model_file, model_json, test)"
   ]
  },
  {
   "cell_type": "code",
   "execution_count": 7,
   "metadata": {},
   "outputs": [
    {
     "output_type": "stream",
     "name": "stdout",
     "text": [
      "Test shape: (1783, 4)\n",
      "Test shape: (1783, 4)\n",
      "Model dir: c:/Data/Jackie_Lenet5/\n",
      "Pickle dir: C:/data/Predictions/\n",
      "Working with:  clean_all_outliers_Lenet5\n",
      "Begin Predict\n",
      "Scaling 1783 images...\n",
      "Scaling of 1783 observations complete.\n",
      "Begining the split of Test\n",
      "got unique ids\n",
      "test subset shape: (1783, 4)\n",
      "End with the split of Test\n",
      "(27124, 4)\n",
      "before melt: (1783, 30)\n",
      "after melt: (53490, 3)\n",
      "after merge: (27124, 2)\n",
      "C:/data/Predictions/clean_all_outliers_Lenet5Pred.csv\n",
      "Predictions written \n",
      "End model and train\n",
      "\n"
     ]
    }
   ],
   "source": [
    "#golden\n",
    "import os\n",
    "import imp\n",
    "import pickle\n",
    "import predict_models\n",
    "import transform_data\n",
    "imp.reload(predict_models)\n",
    "imp.reload(transform_data)\n",
    "\n",
    "id_lookup = pickle.load( open( \"../Data/id_lookup.p\", \"rb\" ) )\n",
    "test = pickle.load( open( \"../data/test.p\", \"rb\" ) )\n",
    "print(\"Test shape:\", test.shape)\n",
    "# split test into prediction for those with > 8 points and those with <= 8 points\n",
    "#df = id_lookup.groupby(by='image_id').feature_name.count().reset_index()\n",
    "#pred8_image_id = df[(df.feature_name <= 8)].image_id.unique()\n",
    "\n",
    "#test = test[~(test.image_id.isin(pred8_image_id))]\n",
    "\n",
    "print(\"Test shape:\", test.shape)\n",
    "\n",
    "file_path = \"c:/Data/Jackie_Lenet5\"\n",
    "pred_path = \"C:/data/Predictions/\"\n",
    "\n",
    "#(self, model_dir,pred_dir, ids, verbose = False):\n",
    "predictor = predict_models.PredictModels(file_path,pred_path , id_lookup)\n",
    "\n",
    "predictor.print_paths()\n",
    "\n",
    "files = os.listdir(file_path)\n",
    "\n",
    "for filename in files:\n",
    "    if \".h5\" in filename:\n",
    "        base_name = filename[:-3]\n",
    "        model_json = ''.join((base_name,\".json\"))\n",
    "        print(\"Working with: \", base_name)\n",
    "        print(\"Begin Predict\")\n",
    "        Y= predictor.predict_lenet5(base_name, filename, model_json, test)\n",
    "        print(\"End model and train\")    \n",
    "        print()\n"
   ]
  },
  {
   "cell_type": "code",
   "execution_count": 7,
   "metadata": {},
   "outputs": [
    {
     "output_type": "stream",
     "name": "stdout",
     "text": [
      "2.4.1\n"
     ]
    }
   ],
   "source": [
    "import tensorflow as tf\n",
    "print(tf.__version__)"
   ]
  },
  {
   "cell_type": "code",
   "execution_count": 9,
   "metadata": {},
   "outputs": [
    {
     "output_type": "execute_result",
     "data": {
      "text/plain": [
       "False"
      ]
     },
     "metadata": {},
     "execution_count": 9
    }
   ],
   "source": [
    "import tensorflow as tf\n",
    "tf.test.is_gpu_available(\n",
    "    cuda_only=False, min_cuda_compute_capability=None\n",
    ")"
   ]
  },
  {
   "cell_type": "code",
   "execution_count": 3,
   "metadata": {},
   "outputs": [
    {
     "output_type": "stream",
     "name": "stdout",
     "text": [
      "Num GPUs Available:  1\n"
     ]
    }
   ],
   "source": [
    "import tensorflow as tf\n",
    "print(\"Num GPUs Available: \", len(tf.config.experimental.list_physical_devices('GPU')))"
   ]
  },
  {
   "cell_type": "code",
   "execution_count": 5,
   "metadata": {},
   "outputs": [
    {
     "output_type": "stream",
     "name": "stdout",
     "text": [
      "no\n"
     ]
    }
   ],
   "source": [
    "if get_GPU_count() > 1: \n",
    "    dev = \"/cpu:0\"\n",
    "    print(\"hi\")\n",
    "else: \n",
    "   dev = \"/gpu:0\"\n",
    "   print(\"no\")"
   ]
  },
  {
   "cell_type": "code",
   "execution_count": 24,
   "metadata": {},
   "outputs": [
    {
     "output_type": "stream",
     "name": "stdout",
     "text": [
      "hi\n"
     ]
    }
   ],
   "source": [
    "filename = \"hi.p5\"\n",
    "newfilename = filename[:-3]\n",
    "print(newfilename)"
   ]
  },
  {
   "cell_type": "code",
   "execution_count": null,
   "metadata": {},
   "outputs": [],
   "source": []
  }
 ]
}