{
 "cells": [
  {
   "cell_type": "markdown",
   "metadata": {},
   "source": [
    "# Initial Models"
   ]
  },
  {
   "cell_type": "code",
   "execution_count": null,
   "metadata": {},
   "outputs": [],
   "source": [
    "# Import the necessary packages\n",
    "\n",
    "import zipfile\n",
    "import pandas as pd\n",
    "import numpy as np\n",
    "import seaborn as sns\n",
    "import matplotlib.pyplot as plt\n",
    "import pickle\n",
    "\n",
    "# Import SKLearn packages\n",
    "from sklearn.model_selection import train_test_split\n",
    "from sklearn.linear_model import LinearRegression\n",
    "from sklearn.linear_model import Ridge, Lasso\n",
    "from sklearn.tree import DecisionTreeRegressor\n",
    "from sklearn.neighbors import KNeighborsRegressor\n",
    "from sklearn.neural_network import MLPRegressor\n",
    "import sklearn.metrics as metrics"
   ]
  },
  {
   "cell_type": "code",
   "execution_count": null,
   "metadata": {},
   "outputs": [],
   "source": [
    "# Extract data \n",
    "\n",
    "IdLookupTable = pd.read_csv('/home/jupyter/blackboxes/data/IdLookupTable.csv', header=0, sep=',', quotechar='\"')\n",
    "\n",
    "SampleSubmission = pd.read_csv('/home/jupyter/blackboxes/data/SampleSubmission.csv', header=0, sep=',', quotechar='\"')\n",
    "\n",
    "# Load pickles\n",
    "\n",
    "train_data = pickle.load(open('/home/jupyter/blackboxes/data/train.p', 'rb'))\n",
    "\n",
    "test_data = pickle.load(open('/home/jupyter/blackboxes/data/test.p', 'rb'))\n"
   ]
  },
  {
   "cell_type": "code",
   "execution_count": null,
   "metadata": {},
   "outputs": [],
   "source": [
    "# Drop the extra columns\n",
    "\n",
    "train_data = train_data.drop(['index', 'check_sum'], axis=1)\n",
    "\n",
    "test_data = test_data.drop(['index', 'check_sum'], axis=1)"
   ]
  },
  {
   "cell_type": "code",
   "execution_count": null,
   "metadata": {},
   "outputs": [],
   "source": [
    "dup_train = pickle.load(open('/home/jupyter/blackboxes/data/traindup.p', 'rb'))\n",
    "dup_test = pickle.load(open('/home/jupyter/blackboxes/data/testdup.p', 'rb'))"
   ]
  },
  {
   "cell_type": "markdown",
   "metadata": {},
   "source": [
    "## Function to plot images and keypoints"
   ]
  },
  {
   "cell_type": "code",
   "execution_count": null,
   "metadata": {},
   "outputs": [],
   "source": [
    "def plot_img(data, indexes, columns=5, points=1):\n",
    "    \n",
    "    # Determine size of image array\n",
    "    plt.figure(figsize = (15,10))\n",
    "    rows = len(indexes)//columns + 1\n",
    "    \n",
    "    # Transform image strings into arrays\n",
    "    for index, value in enumerate(indexes):\n",
    "        #image_array = np.fromstring(data.loc[value, 'image'], sep = ' ').astype(int).reshape(96, 96)\n",
    "        image_array = data.loc[value, 'image'].reshape(96, 96)\n",
    "        # Optional add keypoints\n",
    "        if points == 1:\n",
    "            keypoints = train_data.loc[value].drop('image').values.astype(float).reshape(-1, 2)\n",
    "        else:\n",
    "            keypoints = []\n",
    "            \n",
    "        # Plot figure matrix \n",
    "        plt.subplot(rows, columns, index+1)\n",
    "        plt.title('Training Sample: {}'.format(index+1))\n",
    "        plt.axis('off')\n",
    "        plt.imshow(image_array, cmap='gray')\n",
    "        plt.tight_layout()\n",
    "        # Add keypoints\n",
    "        plt.scatter(keypoints[:, 0], keypoints[:, 1], s = 10, marker='.', c = 'red')\n",
    "    plt.show() \n",
    "    \n",
    "    return"
   ]
  },
  {
   "cell_type": "code",
   "execution_count": null,
   "metadata": {},
   "outputs": [],
   "source": [
    "plot_img(train_data, range(20))"
   ]
  },
  {
   "cell_type": "markdown",
   "metadata": {},
   "source": [
    "## Lets look at some of the values with missing datapoints:"
   ]
  },
  {
   "cell_type": "code",
   "execution_count": null,
   "metadata": {},
   "outputs": [],
   "source": [
    "indexes = np.random.choice(train_data[train_data.isnull().any(axis=1)].index, 10)\n",
    "plot_img(train_data, indexes)"
   ]
  },
  {
   "cell_type": "markdown",
   "metadata": {},
   "source": [
    "Not only are there missing data points but there are also blurred images. "
   ]
  },
  {
   "cell_type": "markdown",
   "metadata": {},
   "source": [
    "It also seems that for some of these, only portions of data are missing and some of the images are not of real people."
   ]
  },
  {
   "cell_type": "markdown",
   "metadata": {},
   "source": [
    "## Test out some simple models for performance"
   ]
  },
  {
   "cell_type": "code",
   "execution_count": null,
   "metadata": {},
   "outputs": [],
   "source": [
    "def regression_results(y_true, y_pred):\n",
    "\n",
    "    # Regression metrics\n",
    "    explained_variance = metrics.explained_variance_score(y_true, y_pred)\n",
    "    mean_absolute_error = metrics.mean_absolute_error(y_true, y_pred) \n",
    "    mse = metrics.mean_squared_error(y_true, y_pred) \n",
    "    #mean_squared_log_error=metrics.mean_squared_log_error(y_true, y_pred)\n",
    "    median_absolute_error = metrics.median_absolute_error(y_true, y_pred)\n",
    "    r2 = metrics.r2_score(y_true, y_pred)\n",
    "\n",
    "    print('explained_variance: ', round(explained_variance,4))    \n",
    "    #print('mean_squared_log_error: ', round(mean_squared_log_error,4))\n",
    "    print('r2: ', round(r2,4))\n",
    "    print('MAE: ', round(mean_absolute_error,4))\n",
    "    print('MSE: ', round(mse,4))\n",
    "    print('RMSE: ', round(np.sqrt(mse),4))"
   ]
  },
  {
   "cell_type": "code",
   "execution_count": null,
   "metadata": {},
   "outputs": [],
   "source": [
    "def new_plot_img(images, labels, indexes, columns=5, points=1):\n",
    "\n",
    "    # Determine size of image array\n",
    "    plt.figure(figsize = (15,10))\n",
    "    rows = len(indexes)//columns + 1\n",
    "    \n",
    "    # Transform image strings into arrays\n",
    "    for index, value in enumerate(indexes):\n",
    "        image_array = images[value].reshape(96, 96)\n",
    "         # Optional add keypoints\n",
    "        if points == 1:\n",
    "            keypoints = labels[value].reshape(-1, 2)\n",
    "        else:\n",
    "            keypoints = []\n",
    "            \n",
    "        # Plot figure matrix \n",
    "        plt.subplot(rows, columns, index + 1)\n",
    "        plt.title('Training Sample: {}'.format(index+1))\n",
    "        plt.axis('off')\n",
    "        plt.imshow(image_array, cmap='gray')\n",
    "        plt.tight_layout()\n",
    "        # Add keypoints\n",
    "        if points == 1:\n",
    "            plt.scatter(keypoints[:, 0], keypoints[:, 1], s = 10, marker = '.', c = 'red')\n",
    "        else:\n",
    "            pass\n",
    "        \n",
    "    plt.show() \n",
    "    \n",
    "    return"
   ]
  },
  {
   "cell_type": "code",
   "execution_count": null,
   "metadata": {},
   "outputs": [],
   "source": [
    "def new_random_img(images, labels, indexes, columns = 5, points=1):\n",
    "    \n",
    "    rand_list = np.random.randint(len(images), size=len(indexes))\n",
    "    \n",
    "    # Determine size of image array\n",
    "    plt.figure(figsize = (15,10))\n",
    "    rows = len(indexes)//columns + 1\n",
    "    \n",
    "    # Transform image strings into arrays\n",
    "    for index, value in enumerate(list(rand_list)):\n",
    "        image_array = images[value].reshape(96, 96)\n",
    "         # Optional add keypoints\n",
    "        if points == 1:\n",
    "            keypoints = labels[value].reshape(-1, 2)\n",
    "        else:\n",
    "            keypoints = []\n",
    "            \n",
    "        # Plot figure matrix \n",
    "        plt.subplot(rows, columns, index + 1)\n",
    "        plt.title('Training Sample: {}'.format(index+1))\n",
    "        plt.axis('off')\n",
    "        plt.imshow(image_array, cmap = 'gray')\n",
    "        plt.tight_layout()\n",
    "        # Add keypoints\n",
    "        if points == 1:\n",
    "            plt.scatter(keypoints[:, 0], keypoints[:, 1], s = 10, marker = '.', c = 'red')\n",
    "        else:\n",
    "            pass\n",
    "        \n",
    "    plt.show() \n",
    "    \n",
    "    return"
   ]
  },
  {
   "cell_type": "markdown",
   "metadata": {},
   "source": [
    "## Prep Data"
   ]
  },
  {
   "cell_type": "code",
   "execution_count": null,
   "metadata": {},
   "outputs": [],
   "source": [
    "# Define feature and target columns\n",
    "feature_col, target_cols = 'image', list(train_data.drop('image', axis = 1).columns)\n",
    "\n",
    "# Fill NA's with mean of column\n",
    "train_data[target_cols] = train_data[target_cols].fillna(train_data[target_cols].mean())\n",
    "\n",
    "# Specify image dimensions\n",
    "width  = 96\n",
    "height = 96\n",
    "channels = 1\n",
    "\n",
    "# Create image array in numpy (reshaped)\n",
    "train_images = np.array(train_data[feature_col].tolist(), dtype = 'float')\n",
    "train_labels = train_data[target_cols].to_numpy()\n",
    "\n",
    "# (Optional) Normalize?\n",
    "normalized_train_images = train_images/255\n",
    "\n",
    "# Prepare train-test split\n",
    "train_images, test_images, train_labels, test_labels = train_test_split(normalized_train_images, train_labels, test_size=0.1, random_state=7)"
   ]
  },
  {
   "cell_type": "code",
   "execution_count": null,
   "metadata": {},
   "outputs": [],
   "source": [
    "print(\"Size of training dataset: {}\".format(len(train_images)))\n",
    "print(\"Size of testing dataset: {}\".format(len(test_images)))"
   ]
  },
  {
   "cell_type": "code",
   "execution_count": null,
   "metadata": {},
   "outputs": [],
   "source": [
    "print(train_images.shape)\n",
    "print(train_labels.shape)\n",
    "print(test_images.shape)\n",
    "print(test_labels.shape)"
   ]
  },
  {
   "cell_type": "markdown",
   "metadata": {},
   "source": [
    "## Multiple Linear Regression"
   ]
  },
  {
   "cell_type": "markdown",
   "metadata": {},
   "source": [
    "### Try OLS"
   ]
  },
  {
   "cell_type": "code",
   "execution_count": null,
   "metadata": {},
   "outputs": [],
   "source": [
    "LR1 = LinearRegression()\n",
    "LR1_fit = LR1.fit(train_images, train_labels)\n",
    "LR1_predict = LR1_fit.predict(test_images)"
   ]
  },
  {
   "cell_type": "code",
   "execution_count": null,
   "metadata": {},
   "outputs": [],
   "source": [
    "regression_results(test_labels, LR1_predict)"
   ]
  },
  {
   "cell_type": "markdown",
   "metadata": {},
   "source": [
    "### Try Ridge"
   ]
  },
  {
   "cell_type": "code",
   "execution_count": null,
   "metadata": {},
   "outputs": [],
   "source": [
    "LR2 = Ridge()\n",
    "LR2_fit = LR2.fit(train_images, train_labels)\n",
    "LR2_predict = LR2_fit.predict(test_images)"
   ]
  },
  {
   "cell_type": "code",
   "execution_count": null,
   "metadata": {},
   "outputs": [],
   "source": [
    "regression_results(test_labels, LR2_predict)"
   ]
  },
  {
   "cell_type": "markdown",
   "metadata": {},
   "source": [
    "### Try Lasso"
   ]
  },
  {
   "cell_type": "code",
   "execution_count": null,
   "metadata": {},
   "outputs": [],
   "source": [
    "LR3 = Lasso()\n",
    "LR3_fit = LR3.fit(train_images, train_labels)\n",
    "LR3_predict = LR3_fit.predict(test_images)"
   ]
  },
  {
   "cell_type": "code",
   "execution_count": null,
   "metadata": {},
   "outputs": [],
   "source": [
    "regression_results(test_labels, LR3_predict)"
   ]
  },
  {
   "cell_type": "markdown",
   "metadata": {},
   "source": [
    "### Try DT Regressor"
   ]
  },
  {
   "cell_type": "code",
   "execution_count": null,
   "metadata": {},
   "outputs": [],
   "source": [
    "DT1 = DecisionTreeRegressor()\n",
    "DT1_fit = DT1.fit(train_images, train_labels)\n",
    "DT1_predict = DT1_fit.predict(test_images)"
   ]
  },
  {
   "cell_type": "code",
   "execution_count": null,
   "metadata": {},
   "outputs": [],
   "source": [
    "regression_results(test_labels, DT1_predict)"
   ]
  },
  {
   "cell_type": "markdown",
   "metadata": {},
   "source": [
    "### Try KNN Regressor"
   ]
  },
  {
   "cell_type": "code",
   "execution_count": null,
   "metadata": {},
   "outputs": [],
   "source": [
    "KNR1 = KNeighborsRegressor(n_neighbors = 5)\n",
    "KNR1_fit = KNR1.fit(train_images, train_labels)\n",
    "KNR1_predict = KNR1_fit.predict(test_images)"
   ]
  },
  {
   "cell_type": "code",
   "execution_count": null,
   "metadata": {},
   "outputs": [],
   "source": [
    "regression_results(test_labels, KNR1_predict)"
   ]
  },
  {
   "cell_type": "code",
   "execution_count": null,
   "metadata": {},
   "outputs": [],
   "source": [
    "KNR2 = KNeighborsRegressor(n_neighbors = 6)\n",
    "KNR2_fit = KNR2.fit(train_images, train_labels)\n",
    "KNR2_predict = KNR2_fit.predict(test_images)"
   ]
  },
  {
   "cell_type": "code",
   "execution_count": null,
   "metadata": {},
   "outputs": [],
   "source": [
    "regression_results(test_labels, KNR2_predict)"
   ]
  },
  {
   "cell_type": "code",
   "execution_count": null,
   "metadata": {},
   "outputs": [],
   "source": [
    "KNR3 = KNeighborsRegressor(n_neighbors = 7)\n",
    "KNR3_fit = KNR3.fit(train_images, train_labels)\n",
    "KNR3_predict = KNR3_fit.predict(test_images)"
   ]
  },
  {
   "cell_type": "code",
   "execution_count": null,
   "metadata": {},
   "outputs": [],
   "source": [
    "regression_results(test_labels, KNR3_predict)"
   ]
  },
  {
   "cell_type": "markdown",
   "metadata": {},
   "source": [
    "## MLP Regression"
   ]
  },
  {
   "cell_type": "code",
   "execution_count": null,
   "metadata": {},
   "outputs": [],
   "source": [
    "MLPR1 = MLPRegressor(hidden_layer_sizes = 50, activation = 'relu', solver = 'adam', alpha = 0.001, batch_size = 'auto')\n",
    "MLPR1_fit = MLPR1.fit(train_images, train_labels)\n",
    "MLPR1_predict = MLPR1_fit.predict(test_images)"
   ]
  },
  {
   "cell_type": "code",
   "execution_count": null,
   "metadata": {},
   "outputs": [],
   "source": [
    "regression_results(test_labels, MLPR1_predict)"
   ]
  },
  {
   "cell_type": "markdown",
   "metadata": {},
   "source": [
    "## Try using Dataset with Removed Duplicates"
   ]
  },
  {
   "cell_type": "markdown",
   "metadata": {},
   "source": [
    "### Prep Data"
   ]
  },
  {
   "cell_type": "code",
   "execution_count": null,
   "metadata": {},
   "outputs": [],
   "source": []
  },
  {
   "cell_type": "code",
   "execution_count": null,
   "metadata": {},
   "outputs": [],
   "source": [
    "# Check dimensions of new DFs\n",
    "\n",
    "print(train_rm_dup.shape)\n",
    "print(test_rm_dup.shape)"
   ]
  },
  {
   "cell_type": "raw",
   "metadata": {},
   "source": []
  },
  {
   "cell_type": "code",
   "execution_count": null,
   "metadata": {},
   "outputs": [],
   "source": [
    "# Drop the additional rows\n",
    "\n",
    "train_rm_dup.drop(['level_0', 'check_sum'], axis = 1, inplace=True)\n",
    "test_rm_dup.drop(['index', 'check_sum'], axis = 1, inplace=True)"
   ]
  },
  {
   "cell_type": "code",
   "execution_count": null,
   "metadata": {},
   "outputs": [],
   "source": [
    "# Check dimensions of new DFs with additional columns removed\n",
    "\n",
    "print(train_rm_dup.shape)\n",
    "print(test_rm_dup.shape)"
   ]
  },
  {
   "cell_type": "markdown",
   "metadata": {},
   "source": [
    "### Try OLS"
   ]
  },
  {
   "cell_type": "code",
   "execution_count": null,
   "metadata": {},
   "outputs": [],
   "source": [
    "LR_1 = LinearRegression()\n",
    "LR_1_fit = LR_1.fit(train_images2, train_labels2)\n",
    "LR_1_predict = LR_1.predict(test_images2)"
   ]
  },
  {
   "cell_type": "code",
   "execution_count": null,
   "metadata": {},
   "outputs": [],
   "source": [
    "regression_results(test_labels2, LR_1_predict)"
   ]
  },
  {
   "cell_type": "markdown",
   "metadata": {},
   "source": [
    "### Try Ridge"
   ]
  },
  {
   "cell_type": "code",
   "execution_count": null,
   "metadata": {},
   "outputs": [],
   "source": [
    "LR_2 = Ridge()\n",
    "LR_2_fit = LR_2.fit(train_images2, train_labels2)\n",
    "LR_2_predict = LR_2.predict(test_images2)"
   ]
  },
  {
   "cell_type": "code",
   "execution_count": null,
   "metadata": {},
   "outputs": [],
   "source": [
    "regression_results(test_labels2, LR_2_predict)"
   ]
  },
  {
   "cell_type": "markdown",
   "metadata": {},
   "source": [
    "### Try Lasso"
   ]
  },
  {
   "cell_type": "code",
   "execution_count": null,
   "metadata": {},
   "outputs": [],
   "source": [
    "LR_3 = Lasso()\n",
    "LR_3_fit = L3.fit(train_images2, train_labels2)\n",
    "LR_3_predict = L3.predict(test_images2)"
   ]
  },
  {
   "cell_type": "code",
   "execution_count": null,
   "metadata": {},
   "outputs": [],
   "source": [
    "regression_results(test_labels2, LR_3_predict)"
   ]
  },
  {
   "cell_type": "markdown",
   "metadata": {},
   "source": [
    "### Try DT Regressor"
   ]
  },
  {
   "cell_type": "code",
   "execution_count": null,
   "metadata": {},
   "outputs": [],
   "source": [
    "DT2 = DecisionTreeRegressor()\n",
    "DT2_fit = DT2.fit(train_images2, train_labels2)\n",
    "DT2_predict = DT2.predict(test_images2)"
   ]
  },
  {
   "cell_type": "code",
   "execution_count": null,
   "metadata": {},
   "outputs": [],
   "source": [
    "regression_results(test_labels2, DT2_predict)"
   ]
  },
  {
   "cell_type": "markdown",
   "metadata": {},
   "source": [
    "### Try KNN Regressor"
   ]
  },
  {
   "cell_type": "code",
   "execution_count": null,
   "metadata": {},
   "outputs": [],
   "source": [
    "KNR_1 = KNeighborsRegressor(n_neighbors = 5)\n",
    "KNR_1_fit = KNR_1.fit(train_images2, train_labels2)\n",
    "KNR_1_predict = KNR_1.predict(test_images2)"
   ]
  },
  {
   "cell_type": "code",
   "execution_count": null,
   "metadata": {},
   "outputs": [],
   "source": [
    "regression_results(test_labels2, KNR_1_predict)"
   ]
  },
  {
   "cell_type": "code",
   "execution_count": null,
   "metadata": {},
   "outputs": [],
   "source": [
    "KNR_2 = KNeighborsRegressor(n_neighbors = 7)\n",
    "KNR_2_fit = KNR_2.fit(train_images2, train_labels2)\n",
    "KNR_2_predict = KNR_2.predict(test_images2)"
   ]
  },
  {
   "cell_type": "code",
   "execution_count": null,
   "metadata": {},
   "outputs": [],
   "source": [
    "regression_results(test_labels2, KNR_2_predict)"
   ]
  },
  {
   "cell_type": "markdown",
   "metadata": {},
   "source": [
    "## Try Using Rakesh's Method"
   ]
  },
  {
   "cell_type": "code",
   "execution_count": null,
   "metadata": {},
   "outputs": [],
   "source": [
    "# Fetch the most significantly-coorelated features for each feature in the `data_under_cleansing` set.\n",
    "def get_feature_correlations(data_under_cleansing):\n",
    "    correlations = data_under_cleansing.corr()\n",
    "    max_correlations = correlations[(correlations>0.5) & (correlations<1)]\n",
    "    feature_corrs = {}\n",
    "    for column in max_correlations:\n",
    "        corr_scores = max_correlations[column]\n",
    "        significant_correlations = corr_scores.dropna()\n",
    "        feature_corrs[significant_correlations.name]=significant_correlations\n",
    "    return feature_corrs\n",
    "\n",
    "# In the data set `data_under_cleaning`, this method looks for features which do not have more than 50 missing data-values.\n",
    "# returns a bool-mask representing : <feature> :: <bool? is data dense>\n",
    "def get_data_density_mask(data_under_cleansing):\n",
    "    features = data_under_cleansing.columns\n",
    "    data_under_cleansing_mask = {}\n",
    "    for i in features:\n",
    "        missing_count = sum(data_under_cleansing[i].isna())\n",
    "        data_under_cleansing_mask[i] = missing_count<50\n",
    "    return data_under_cleansing_mask\n",
    "\n",
    "def do_augment_missing_data(data_under_cleansing, density_mask):\n",
    "    feat_corrs = get_feature_correlations(data_under_cleansing)\n",
    "    print(\"Complete Features: \", len([key for key in density_mask.keys() if density_mask[key]]))\n",
    "    #all feature-correlations for features which are reported as not dense\n",
    "    all_features_to_augment = [feat_corrs[feature] for feature in density_mask if not density_mask[feature]]\n",
    "    for feature_data in all_features_to_augment:\n",
    "        # Do this for each feature that needs to be augmented due to large missing values\n",
    "        feat_to_be_augmented = feature_data.name\n",
    "        high_corr_full_features = [feat for feat in feature_data.index.tolist() if density_mask[feat]]\n",
    "        if len(high_corr_full_features) < 2:\n",
    "            # a feature_threshold to identify how many features are to be used to model \n",
    "            # feature being augmented. Minimum is 2.\n",
    "            continue\n",
    "        print(\"\\nfeat ..\", feat_to_be_augmented)\n",
    "        print(\"corr ..\", high_corr_full_features)\n",
    "        #\"filtering train-data set where all high-corr-features and feat-to-be-augmented are not-NA\"\n",
    "        query_str_train = ' & '.join(['~{}.isna()'.format(k) for k in high_corr_full_features])\n",
    "        query_str_train = ' & '.join([query_str_train, '~{}.isna()'.format(feat_to_be_augmented)])\n",
    "        tmp_train_data  = data_under_cleansing.query(query_str_train)\n",
    "        tmp_train_X = tmp_train_data[high_corr_full_features]\n",
    "        tmp_train_y = tmp_train_data[feat_to_be_augmented]\n",
    "        #print(\"Plotting y against each X.... \\n\\n \")\n",
    "        #for x in high_corr_full_features:\n",
    "            #tmp_train_data.plot(x=x, y=feat_to_be_augmented, style='o')\n",
    "            #plt.show()\n",
    "        #\"filtering predict-data set where all high-corr-features are not-NA and feat-to-be-augmented are NA\"\n",
    "        query_str_predict = ' & '.join(['~{}.isna()'.format(k) for k in high_corr_full_features])\n",
    "        query_str_predict = ' & '.join([query_str_predict, '{}.isna()'.format(feat_to_be_augmented)])\n",
    "        tmp_predict_data  = data_under_cleansing.query(query_str_predict)\n",
    "        tmp_predict_X = tmp_predict_data[high_corr_full_features]\n",
    "        lm = LinearRegression().fit(tmp_train_X, tmp_train_y)\n",
    "        model_score =  lm.score(tmp_train_X, tmp_train_y)\n",
    "        print(\"Model score: \", model_score)\n",
    "        if model_score < 0.45:\n",
    "            # do not use a model to augment data when model is less than 45% accurate. Shifting this threshold to 50% leads to NON-CONVERGENCE\n",
    "            print(\"aborting augmenting..\")\n",
    "            continue\n",
    "        print(\"Model coef: \" , lm.coef_)\n",
    "        tmp_predict_y = list(lm.predict(tmp_predict_X))\n",
    "        feat_column_index = data_under_cleansing.columns.get_loc(feat_to_be_augmented)\n",
    "        index_list = tmp_predict_data.index.tolist()\n",
    "        for i, index in enumerate(index_list):\n",
    "            data_under_cleansing.iloc[index][feat_column_index] = tmp_predict_y[i]\n",
    "    return data_under_cleansing\n",
    "\n",
    "def augment_missing_data(given_dataset):\n",
    "    data_to_be_cleansed = given_dataset.loc[:, given_dataset.columns != 'Image']\n",
    "    while True:\n",
    "        print(\"\\n\\n==========================================================\")\n",
    "        data_density_mask = get_data_density_mask(data_to_be_cleansed)\n",
    "        incomplete_features = [key for key in data_density_mask.keys() if not data_density_mask[key]]\n",
    "        print(\"Incomplete Features: \", len(incomplete_features))\n",
    "        if len(incomplete_features) > 0:\n",
    "            data_to_be_cleansed = do_augment_missing_data(data_to_be_cleansed, data_density_mask)\n",
    "        else:\n",
    "            break\n",
    "    return data_to_be_cleansed"
   ]
  },
  {
   "cell_type": "code",
   "execution_count": null,
   "metadata": {},
   "outputs": [],
   "source": [
    "# Transform data using Rakesh method\n",
    "augment_labels = augment_missing_data(train_data)"
   ]
  },
  {
   "cell_type": "code",
   "execution_count": null,
   "metadata": {},
   "outputs": [],
   "source": [
    "augment_labels = np.array(augment_labels.drop('image', axis=1))"
   ]
  },
  {
   "cell_type": "code",
   "execution_count": null,
   "metadata": {},
   "outputs": [],
   "source": [
    "# Prepare train-test split for new data\n",
    "train_images3, test_images3, train_labels3, test_labels3 = train_test_split(normalized_train_images, augment_labels, test_size=0.1, random_state=7)"
   ]
  },
  {
   "cell_type": "code",
   "execution_count": null,
   "metadata": {},
   "outputs": [],
   "source": [
    "print(train_images3.shape)\n",
    "print(test_images3.shape)\n",
    "print(train_labels3.shape)\n",
    "print(test_images3.shape)"
   ]
  },
  {
   "cell_type": "code",
   "execution_count": null,
   "metadata": {},
   "outputs": [],
   "source": [
    "print(train_images.shape)\n",
    "print(test_images.shape)\n",
    "print(train_labels.shape)\n",
    "print(test_images.shape)"
   ]
  },
  {
   "cell_type": "markdown",
   "metadata": {},
   "source": [
    "### Try OLS"
   ]
  },
  {
   "cell_type": "code",
   "execution_count": null,
   "metadata": {},
   "outputs": [],
   "source": [
    "LR_1_2 = LinearRegression()\n",
    "LR_1_2_fit = LR_1_2.fit(train_images3, train_labels3)\n",
    "LR_1_2_predict = LR_1_2_fit.predict(test_images3)"
   ]
  },
  {
   "cell_type": "code",
   "execution_count": null,
   "metadata": {},
   "outputs": [],
   "source": [
    "regression_results(test_labels3, LR_1_2_predict)"
   ]
  },
  {
   "cell_type": "markdown",
   "metadata": {},
   "source": [
    "### Try Ridge"
   ]
  },
  {
   "cell_type": "code",
   "execution_count": null,
   "metadata": {},
   "outputs": [],
   "source": [
    "LR_2_2 = Ridge()\n",
    "LR_2_2_fit = LR_2_2.fit(train_images3, train_labels3)\n",
    "LR_2_2_predict = LR_2_2_fit.predict(test_images3)"
   ]
  },
  {
   "cell_type": "code",
   "execution_count": null,
   "metadata": {},
   "outputs": [],
   "source": [
    "regression_results(test_labels3, LR_2_2_predict)"
   ]
  },
  {
   "cell_type": "markdown",
   "metadata": {},
   "source": [
    "### Try Lasso"
   ]
  },
  {
   "cell_type": "code",
   "execution_count": null,
   "metadata": {},
   "outputs": [],
   "source": [
    "LR_3_2 = Lasso()\n",
    "LR_3_2_fit = LR_3_2.fit(train_images3, train_labels3)\n",
    "LR_3_2_predict = LR_3_2_fit.predict(test_images3)"
   ]
  },
  {
   "cell_type": "code",
   "execution_count": null,
   "metadata": {},
   "outputs": [],
   "source": [
    "regression_results(test_labels3, LR_3_2_predict)"
   ]
  },
  {
   "cell_type": "markdown",
   "metadata": {},
   "source": [
    "### Try DT Regressor"
   ]
  },
  {
   "cell_type": "code",
   "execution_count": null,
   "metadata": {},
   "outputs": [],
   "source": [
    "DT3 = DecisionTreeRegressor()\n",
    "DT3_fit = DT3.fit(train_images3, train_labels3)\n",
    "DT3_predict = DT3_fit.predict(test_images3)"
   ]
  },
  {
   "cell_type": "code",
   "execution_count": null,
   "metadata": {},
   "outputs": [],
   "source": [
    "regression_results(test_labels3, DT3_predict)"
   ]
  },
  {
   "cell_type": "markdown",
   "metadata": {},
   "source": [
    "### Try KNN Regressor"
   ]
  },
  {
   "cell_type": "code",
   "execution_count": null,
   "metadata": {},
   "outputs": [],
   "source": [
    "KNR_1_2 = KNeighborsRegressor(n_neighbors = 5)\n",
    "KNR_1_2_fit = KNR_1_2.fit(train_images3, train_labels3)\n",
    "KNR_1_2_predict = KNR_1_2_fit.predict(test_images3)"
   ]
  },
  {
   "cell_type": "code",
   "execution_count": null,
   "metadata": {},
   "outputs": [],
   "source": [
    "regression_results(test_labels3, KNR_1_2_predict)"
   ]
  },
  {
   "cell_type": "code",
   "execution_count": null,
   "metadata": {},
   "outputs": [],
   "source": [
    "KNR_1_3 = KNeighborsRegressor(n_neighbors = 7)\n",
    "KNR_1_3_fit = KNR_1_3.fit(train_images3, train_labels3)\n",
    "KNR_1_3_predict = KNR_1_3_fit.predict(test_images3)"
   ]
  },
  {
   "cell_type": "code",
   "execution_count": null,
   "metadata": {},
   "outputs": [],
   "source": [
    "regression_results(test_labels3, KNR_1_3_predict)"
   ]
  },
  {
   "cell_type": "code",
   "execution_count": null,
   "metadata": {},
   "outputs": [],
   "source": []
  }
 ],
 "metadata": {
  "environment": {
   "name": "tf2-gpu.2-4.m65",
   "type": "gcloud",
   "uri": "gcr.io/deeplearning-platform-release/tf2-gpu.2-4:m65"
  },
  "kernelspec": {
   "display_name": "Python 3",
   "language": "python",
   "name": "python3"
  },
  "language_info": {
   "codemirror_mode": {
    "name": "ipython",
    "version": 3
   },
   "file_extension": ".py",
   "mimetype": "text/x-python",
   "name": "python",
   "nbconvert_exporter": "python",
   "pygments_lexer": "ipython3",
   "version": "3.7.10"
  }
 },
 "nbformat": 4,
 "nbformat_minor": 4
}
