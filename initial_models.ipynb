{
 "cells": [
  {
   "cell_type": "markdown",
   "metadata": {
    "id": "898O9xB_RdDX"
   },
   "source": [
    "# Initial Models"
   ]
  },
  {
   "cell_type": "code",
   "execution_count": null,
   "metadata": {
    "colab": {
     "base_uri": "https://localhost:8080/"
    },
    "id": "o0JO2hVFRqAh",
    "outputId": "46986c5a-86fe-453d-e1e7-5aed84cec102"
   },
   "outputs": [],
   "source": [
    "# from google.colab import drive\n",
    "\n",
    "# drive.mount('/content/drive')"
   ]
  },
  {
   "cell_type": "code",
   "execution_count": null,
   "metadata": {
    "id": "pa1jlrmjRdDg"
   },
   "outputs": [],
   "source": [
    "# Import the necessary packages\n",
    "\n",
    "import pandas as pd\n",
    "import numpy as np\n",
    "import seaborn as sns\n",
    "import matplotlib.pyplot as plt\n",
    "import pickle\n",
    "\n",
    "# Import SKLearn packages\n",
    "from sklearn.model_selection import train_test_split\n",
    "from sklearn.linear_model import LinearRegression\n",
    "from sklearn.linear_model import Ridge, Lasso\n",
    "from sklearn.tree import DecisionTreeRegressor\n",
    "from sklearn.neighbors import KNeighborsRegressor\n",
    "from sklearn.neural_network import MLPRegressor\n",
    "from sklearn.ensemble import RandomForestRegressor\n",
    "import sklearn.metrics as metrics"
   ]
  },
  {
   "cell_type": "code",
   "execution_count": null,
   "metadata": {
    "id": "VxVZc4oaRdDh"
   },
   "outputs": [],
   "source": [
    "# Extract data \n",
    "\n",
    "IdLookupTable = pd.read_csv('data/IdLookupTable.csv', header=0, sep=',', quotechar='\"')\n",
    "\n",
    "SampleSubmission = pd.read_csv('data/SampleSubmission.csv', header=0, sep=',', quotechar='\"')\n",
    "\n",
    "# Load pickles\n",
    "\n",
    "train_data = pickle.load(open('data/train.p', 'rb'))\n",
    "\n",
    "test_data = pickle.load(open('data/test.p', 'rb'))\n",
    "\n",
    "clean_train = pickle.load(open('data/clean_train.p', 'rb'))\n",
    "\n",
    "clean_test = pickle.load(open('data/clean_test.p', 'rb'))\n",
    "\n",
    "augmented_data = pickle.load(open('data/augmented_train.p', 'rb'))"
   ]
  },
  {
   "cell_type": "code",
   "execution_count": null,
   "metadata": {
    "id": "0jUIqFBuRdDh"
   },
   "outputs": [],
   "source": [
    "# Drop the extra columns\n",
    "\n",
    "train_data = train_data.drop(['index', 'check_sum'], axis=1)\n",
    "\n",
    "test_data = test_data.drop(['index', 'check_sum'], axis=1)\n",
    "\n",
    "clean_train = clean_train.drop(['level_0', 'check_sum'], axis=1)\n",
    "\n",
    "clean_test = clean_test.drop(['index', 'check_sum'], axis=1)"
   ]
  },
  {
   "cell_type": "markdown",
   "metadata": {
    "id": "UH-AMEl-RdDi"
   },
   "source": [
    "## Function to plot images and keypoints"
   ]
  },
  {
   "cell_type": "code",
   "execution_count": null,
   "metadata": {
    "id": "-jtq1b3CRdDj"
   },
   "outputs": [],
   "source": [
    "# def plot_img(data, indexes, columns=5, points=1):\n",
    "    \n",
    "#     # Determine size of image array\n",
    "#     plt.figure(figsize = (15,10))\n",
    "#     rows = len(indexes)//columns + 1\n",
    "    \n",
    "#     # Transform image strings into arrays\n",
    "#     for index, value in enumerate(indexes):\n",
    "#         #image_array = np.fromstring(data.loc[value, 'image'], sep = ' ').astype(int).reshape(96, 96)\n",
    "#         image_array = data.loc[value, 'image'].reshape(96, 96)\n",
    "#         # Optional add keypoints\n",
    "#         if points == 1:\n",
    "#             keypoints = train_data.loc[value].drop('image').values.astype(float).reshape(-1, 2)\n",
    "#         else:\n",
    "#             keypoints = []\n",
    "            \n",
    "#         # Plot figure matrix \n",
    "#         plt.subplot(rows, columns, index+1)\n",
    "#         plt.title('Training Sample: {}'.format(index+1))\n",
    "#         plt.axis('off')\n",
    "#         plt.imshow(image_array, cmap='gray')\n",
    "#         plt.tight_layout()\n",
    "#         # Add keypoints\n",
    "#         plt.scatter(keypoints[:, 0], keypoints[:, 1], s = 10, marker='.', c = 'red')\n",
    "#     plt.show() \n",
    "    \n",
    "#     return"
   ]
  },
  {
   "cell_type": "code",
   "execution_count": null,
   "metadata": {
    "id": "9i1ti0ZPRdDj"
   },
   "outputs": [],
   "source": [
    "# plot_img(train_data, range(20))"
   ]
  },
  {
   "cell_type": "markdown",
   "metadata": {
    "id": "2t7m8TsrRdDj"
   },
   "source": [
    "## Visualize values with missing datapoints:"
   ]
  },
  {
   "cell_type": "code",
   "execution_count": null,
   "metadata": {
    "id": "drh74QblRdDk"
   },
   "outputs": [],
   "source": [
    "# indexes = np.random.choice(train_data[train_data.isnull().any(axis=1)].index, 10)\n",
    "# plot_img(train_data, indexes)"
   ]
  },
  {
   "cell_type": "markdown",
   "metadata": {
    "id": "4Moqi7JGRdDk"
   },
   "source": [
    "Not only are there missing data points but there are also blurred images. "
   ]
  },
  {
   "cell_type": "markdown",
   "metadata": {
    "id": "iVb9toXxRdDl"
   },
   "source": [
    "It also seems that for some of these, only portions of data are missing and some of the images are not of real people."
   ]
  },
  {
   "cell_type": "markdown",
   "metadata": {
    "id": "ptkVmqFsRdDl"
   },
   "source": [
    "## Test out some simple models for performance"
   ]
  },
  {
   "cell_type": "code",
   "execution_count": null,
   "metadata": {
    "id": "yDhCSYTWRdDl"
   },
   "outputs": [],
   "source": [
    "def regression_results(y_true, y_pred):\n",
    "\n",
    "    # Regression metrics\n",
    "    explained_variance = metrics.explained_variance_score(y_true, y_pred)\n",
    "    mean_absolute_error = metrics.mean_absolute_error(y_true, y_pred) \n",
    "    mse = metrics.mean_squared_error(y_true, y_pred) \n",
    "    #mean_squared_log_error=metrics.mean_squared_log_error(y_true, y_pred)\n",
    "    median_absolute_error = metrics.median_absolute_error(y_true, y_pred)\n",
    "    r2 = metrics.r2_score(y_true, y_pred)\n",
    "\n",
    "    print('explained_variance: ', round(explained_variance,4))    \n",
    "    #print('mean_squared_log_error: ', round(mean_squared_log_error,4))\n",
    "    print('r2: ', round(r2,4))\n",
    "    print('MAE: ', round(mean_absolute_error,4))\n",
    "    print('MSE: ', round(mse,4))\n",
    "    print('RMSE: ', round(np.sqrt(mse),4))"
   ]
  },
  {
   "cell_type": "code",
   "execution_count": null,
   "metadata": {
    "id": "WLABAKF8YMoz"
   },
   "outputs": [],
   "source": [
    "def r2(y_true, y_pred):\n",
    "  r2 = metrics.r2_score(y_true, y_pred)\n",
    "  return r2"
   ]
  },
  {
   "cell_type": "code",
   "execution_count": null,
   "metadata": {
    "id": "ZsLKf3m0RdDm"
   },
   "outputs": [],
   "source": [
    "def new_plot_img(images, labels, indexes, columns=5, points=1):\n",
    "\n",
    "    # Determine size of image array\n",
    "    plt.figure(figsize = (15,10))\n",
    "    rows = len(indexes)//columns + 1\n",
    "    \n",
    "    # Transform image strings into arrays\n",
    "    for index, value in enumerate(indexes):\n",
    "        image_array = images[value].reshape(96, 96)\n",
    "         # Optional add keypoints\n",
    "        if points == 1:\n",
    "            keypoints = labels[value].reshape(-1, 2)\n",
    "        else:\n",
    "            keypoints = []\n",
    "            \n",
    "        # Plot figure matrix \n",
    "        plt.subplot(rows, columns, index + 1)\n",
    "        plt.title('Training Sample: {}'.format(index+1))\n",
    "        plt.axis('off')\n",
    "        plt.imshow(image_array, cmap='gray')\n",
    "        plt.tight_layout()\n",
    "        # Add keypoints\n",
    "        if points == 1:\n",
    "            plt.scatter(keypoints[:, 0], keypoints[:, 1], s = 10, marker = '.', c = 'red')\n",
    "        else:\n",
    "            pass\n",
    "        \n",
    "    plt.show() \n",
    "    \n",
    "    return"
   ]
  },
  {
   "cell_type": "code",
   "execution_count": null,
   "metadata": {
    "id": "fhUgHzDZRdDm"
   },
   "outputs": [],
   "source": [
    "def new_random_img(images, labels, indexes, columns = 5, points=1):\n",
    "    \n",
    "    rand_list = np.random.randint(len(images), size=len(indexes))\n",
    "    \n",
    "    # Determine size of image array\n",
    "    plt.figure(figsize = (15,10))\n",
    "    rows = len(indexes)//columns + 1\n",
    "    \n",
    "    # Transform image strings into arrays\n",
    "    for index, value in enumerate(list(rand_list)):\n",
    "        image_array = images[value].reshape(96, 96)\n",
    "         # Optional add keypoints\n",
    "        if points == 1:\n",
    "            keypoints = labels[value].reshape(-1, 2)\n",
    "        else:\n",
    "            keypoints = []\n",
    "            \n",
    "        # Plot figure matrix \n",
    "        plt.subplot(rows, columns, index + 1)\n",
    "        plt.title('Training Sample: {}'.format(index+1))\n",
    "        plt.axis('off')\n",
    "        plt.imshow(image_array, cmap = 'gray')\n",
    "        plt.tight_layout()\n",
    "        # Add keypoints\n",
    "        if points == 1:\n",
    "            plt.scatter(keypoints[:, 0], keypoints[:, 1], s = 10, marker = '.', c = 'red')\n",
    "        else:\n",
    "            pass\n",
    "        \n",
    "    plt.show() \n",
    "    \n",
    "    return"
   ]
  },
  {
   "cell_type": "markdown",
   "metadata": {
    "id": "sicSZEAJRdDn"
   },
   "source": [
    "## Prep Data"
   ]
  },
  {
   "cell_type": "code",
   "execution_count": null,
   "metadata": {
    "id": "xaqo-1Z-RdDn"
   },
   "outputs": [],
   "source": [
    "# Define feature and target columns\n",
    "feature_col, target_cols = 'image', list(train_data.drop('image', axis = 1).columns)\n",
    "\n",
    "# Fill NA's with mean of column\n",
    "train_data[target_cols] = train_data[target_cols].fillna(train_data[target_cols].mean())\n",
    "\n",
    "# Specify image dimensions\n",
    "width  = 96\n",
    "height = 96\n",
    "channels = 1\n",
    "\n",
    "# Create image array in numpy (reshaped)\n",
    "train_images = np.array(train_data[feature_col].tolist(), dtype = 'float')\n",
    "train_labels = train_data[target_cols].to_numpy()\n",
    "\n",
    "# (Optional) Normalize?\n",
    "normalized_train_images = train_images/255\n",
    "\n",
    "# Prepare train-test split\n",
    "train_images, test_images, train_labels, test_labels = train_test_split(normalized_train_images, train_labels, test_size=0.1, random_state=7)"
   ]
  },
  {
   "cell_type": "code",
   "execution_count": null,
   "metadata": {
    "colab": {
     "base_uri": "https://localhost:8080/"
    },
    "id": "yKATSCg4RdDo",
    "outputId": "6c0e4a91-111b-45ed-e779-f14f5a921db1"
   },
   "outputs": [],
   "source": [
    "# Check shapes of train test datasets\n",
    "\n",
    "print(train_images.shape)\n",
    "print(train_labels.shape)\n",
    "print(test_images.shape)\n",
    "print(test_labels.shape)"
   ]
  },
  {
   "cell_type": "code",
   "execution_count": null,
   "metadata": {
    "id": "s9FNm8LXXHVH"
   },
   "outputs": [],
   "source": [
    "## Define some lists for performance scoring\n",
    "\n",
    "OLS_list = []\n",
    "ridge_list = []\n",
    "lasso_list= []\n",
    "DT_list = []\n",
    "KNN_list = []\n",
    "KNN_list1 = []\n",
    "RF_list = []"
   ]
  },
  {
   "cell_type": "code",
   "execution_count": null,
   "metadata": {
    "id": "5rNgcRWhZtvd"
   },
   "outputs": [],
   "source": [
    "OLS_list.clear()\n",
    "ridge_list.clear()\n",
    "lasso_list.clear()\n",
    "DT_list.clear()\n",
    "KNN_list.clear()\n",
    "KNN_list1.clear()\n",
    "RF_list.clear()"
   ]
  },
  {
   "cell_type": "markdown",
   "metadata": {
    "id": "7RstvRXnRdDo"
   },
   "source": [
    "## **Multiple Linear Regression**"
   ]
  },
  {
   "cell_type": "markdown",
   "metadata": {
    "id": "Fpx2Y-FPRdDp"
   },
   "source": [
    "### Try OLS"
   ]
  },
  {
   "cell_type": "code",
   "execution_count": null,
   "metadata": {
    "id": "AoILO0J5RdDp"
   },
   "outputs": [],
   "source": [
    "LR1 = LinearRegression()\n",
    "LR1_fit = LR1.fit(train_images, train_labels)\n",
    "LR1_predict = LR1_fit.predict(test_images)"
   ]
  },
  {
   "cell_type": "code",
   "execution_count": null,
   "metadata": {
    "colab": {
     "base_uri": "https://localhost:8080/"
    },
    "id": "hyhTMle2RdDp",
    "outputId": "772233c9-2cb0-42cc-97f0-da5e9c4385d1"
   },
   "outputs": [],
   "source": [
    "regression_results(test_labels, LR1_predict)"
   ]
  },
  {
   "cell_type": "code",
   "execution_count": null,
   "metadata": {
    "id": "I6PPcqPlXwi5"
   },
   "outputs": [],
   "source": [
    "OLS_list.append({'raw': r2(test_labels, LR1_predict)})"
   ]
  },
  {
   "cell_type": "code",
   "execution_count": null,
   "metadata": {
    "colab": {
     "base_uri": "https://localhost:8080/",
     "height": 587
    },
    "id": "U2HU_qptS4Vs",
    "outputId": "6ecd9775-e002-4d62-a9b1-23962e591dd5"
   },
   "outputs": [],
   "source": [
    "new_random_img(test_images, LR1_predict, range(20))"
   ]
  },
  {
   "cell_type": "markdown",
   "metadata": {
    "id": "hNV_QXELRdDq"
   },
   "source": [
    "### Try Ridge"
   ]
  },
  {
   "cell_type": "code",
   "execution_count": null,
   "metadata": {
    "id": "2kgNLU2VRdDq"
   },
   "outputs": [],
   "source": [
    "LR2 = Ridge()\n",
    "LR2_fit = LR2.fit(train_images, train_labels)\n",
    "LR2_predict = LR2_fit.predict(test_images)"
   ]
  },
  {
   "cell_type": "code",
   "execution_count": null,
   "metadata": {
    "colab": {
     "base_uri": "https://localhost:8080/"
    },
    "id": "S6j5UBXsRdDq",
    "outputId": "abe988eb-8a79-4eac-8bc7-2d6661e76f97"
   },
   "outputs": [],
   "source": [
    "regression_results(test_labels, LR2_predict)"
   ]
  },
  {
   "cell_type": "code",
   "execution_count": null,
   "metadata": {
    "id": "WMag0nD4Y4Ly"
   },
   "outputs": [],
   "source": [
    "ridge_list.append({'raw':r2(test_labels, LR2_predict)})"
   ]
  },
  {
   "cell_type": "code",
   "execution_count": null,
   "metadata": {
    "colab": {
     "base_uri": "https://localhost:8080/",
     "height": 587
    },
    "id": "fdwmMPg0T3KV",
    "outputId": "020feb5b-5457-4a36-bf50-a46bbbb97611"
   },
   "outputs": [],
   "source": [
    "new_random_img(test_images, LR2_predict, range(20))"
   ]
  },
  {
   "cell_type": "markdown",
   "metadata": {
    "id": "3vZIYMIfRdDq"
   },
   "source": [
    "### Try Lasso"
   ]
  },
  {
   "cell_type": "code",
   "execution_count": null,
   "metadata": {
    "id": "Xk-EESZdRdDq"
   },
   "outputs": [],
   "source": [
    "LR3 = Lasso()\n",
    "LR3_fit = LR3.fit(train_images, train_labels)\n",
    "LR3_predict = LR3_fit.predict(test_images)"
   ]
  },
  {
   "cell_type": "code",
   "execution_count": null,
   "metadata": {
    "colab": {
     "base_uri": "https://localhost:8080/"
    },
    "id": "iaioriZuRdDr",
    "outputId": "f868beb0-1589-411a-b2de-6d75378ac201"
   },
   "outputs": [],
   "source": [
    "regression_results(test_labels, LR3_predict)"
   ]
  },
  {
   "cell_type": "code",
   "execution_count": null,
   "metadata": {
    "id": "9UXCtdWBZEzC"
   },
   "outputs": [],
   "source": [
    "lasso_list.append({'raw': r2(test_labels, LR3_predict)})"
   ]
  },
  {
   "cell_type": "code",
   "execution_count": null,
   "metadata": {
    "colab": {
     "base_uri": "https://localhost:8080/",
     "height": 587
    },
    "id": "3bJlP3lJUFH_",
    "outputId": "18a930ae-1379-4810-fb0a-99ef6c8863c0"
   },
   "outputs": [],
   "source": [
    "new_random_img(test_images, LR3_predict, range(20))"
   ]
  },
  {
   "cell_type": "markdown",
   "metadata": {
    "id": "e5NIm3fwRdDr"
   },
   "source": [
    "## **DT Regressor**"
   ]
  },
  {
   "cell_type": "code",
   "execution_count": null,
   "metadata": {
    "id": "ACrvyJUxRdDr"
   },
   "outputs": [],
   "source": [
    "DT1 = DecisionTreeRegressor()\n",
    "DT1_fit = DT1.fit(train_images, train_labels)\n",
    "DT1_predict = DT1_fit.predict(test_images)"
   ]
  },
  {
   "cell_type": "code",
   "execution_count": null,
   "metadata": {
    "colab": {
     "base_uri": "https://localhost:8080/"
    },
    "id": "h_BPlIUPRdDr",
    "outputId": "139a0f7e-dc1d-4a86-ec3f-1d88f1b73c77"
   },
   "outputs": [],
   "source": [
    "regression_results(test_labels, DT1_predict)"
   ]
  },
  {
   "cell_type": "code",
   "execution_count": null,
   "metadata": {
    "id": "pRSYoNkCZOcQ"
   },
   "outputs": [],
   "source": [
    "DT_list.append({'raw': r2(test_labels, DT1_predict)})"
   ]
  },
  {
   "cell_type": "code",
   "execution_count": null,
   "metadata": {
    "colab": {
     "base_uri": "https://localhost:8080/",
     "height": 587
    },
    "id": "TkZLcwqRUQjx",
    "outputId": "dc25ef92-98b9-4fb7-8ed5-85a400a9085d"
   },
   "outputs": [],
   "source": [
    "new_random_img(test_images, DT1_predict, range(20))"
   ]
  },
  {
   "cell_type": "markdown",
   "metadata": {
    "id": "Rwqbq45lRdDs"
   },
   "source": [
    "## **KNN Regressor**"
   ]
  },
  {
   "cell_type": "code",
   "execution_count": null,
   "metadata": {
    "id": "IysFt6yURdDs"
   },
   "outputs": [],
   "source": [
    "KNR1 = KNeighborsRegressor(n_neighbors = 5)\n",
    "KNR1_fit = KNR1.fit(train_images, train_labels)\n",
    "KNR1_predict = KNR1_fit.predict(test_images)"
   ]
  },
  {
   "cell_type": "code",
   "execution_count": null,
   "metadata": {
    "colab": {
     "base_uri": "https://localhost:8080/"
    },
    "id": "dopQWubURdDs",
    "outputId": "63dc1edf-3ed7-416d-db77-53a48df6de6f"
   },
   "outputs": [],
   "source": [
    "regression_results(test_labels, KNR1_predict)"
   ]
  },
  {
   "cell_type": "code",
   "execution_count": null,
   "metadata": {
    "id": "L5Se9NTIVO1s"
   },
   "outputs": [],
   "source": [
    "KNN_list.append({'raw': r2(test_labels, KNR1_predict)})"
   ]
  },
  {
   "cell_type": "code",
   "execution_count": null,
   "metadata": {
    "id": "fbMNZGWURdDt"
   },
   "outputs": [],
   "source": [
    "KNR3 = KNeighborsRegressor(n_neighbors = 7)\n",
    "KNR3_fit = KNR3.fit(train_images, train_labels)\n",
    "KNR3_predict = KNR3_fit.predict(test_images)"
   ]
  },
  {
   "cell_type": "code",
   "execution_count": null,
   "metadata": {
    "colab": {
     "base_uri": "https://localhost:8080/"
    },
    "id": "FpCJhOmYRdDt",
    "outputId": "a5558045-4df1-47a8-ebc0-b8644f52e883"
   },
   "outputs": [],
   "source": [
    "regression_results(test_labels, KNR3_predict)"
   ]
  },
  {
   "cell_type": "code",
   "execution_count": null,
   "metadata": {
    "id": "q7QDJT5taVLK"
   },
   "outputs": [],
   "source": [
    "KNN_list1.append({'raw': r2(test_labels, KNR3_predict)})"
   ]
  },
  {
   "cell_type": "markdown",
   "metadata": {},
   "source": [
    "### Random Forest Regression"
   ]
  },
  {
   "cell_type": "code",
   "execution_count": null,
   "metadata": {},
   "outputs": [],
   "source": [
    "RF = RandomForestRegressor(n_estimators=5)\n",
    "RF_fit = RF.fit(train_images, train_labels)\n",
    "RF_predict = RF_fit.predict(test_images)"
   ]
  },
  {
   "cell_type": "code",
   "execution_count": null,
   "metadata": {},
   "outputs": [],
   "source": [
    "regression_results(test_labels, RF_predict)"
   ]
  },
  {
   "cell_type": "code",
   "execution_count": null,
   "metadata": {},
   "outputs": [],
   "source": [
    "RF_list.append({'raw': r2(test_labels, RF_predict)})"
   ]
  },
  {
   "cell_type": "markdown",
   "metadata": {
    "id": "YHuYGhEsRdDt"
   },
   "source": [
    "## **MLP Regression**"
   ]
  },
  {
   "cell_type": "code",
   "execution_count": null,
   "metadata": {
    "id": "NrRmuWkRRdDt"
   },
   "outputs": [],
   "source": [
    "#MLPR1 = MLPRegressor(hidden_layer_sizes = 50, activation = 'relu', solver = 'adam', alpha = 0.001, batch_size = 'auto')\n",
    "#MLPR1_fit = MLPR1.fit(train_images, train_labels)\n",
    "#MLPR1_predict = MLPR1_fit.predict(test_images)"
   ]
  },
  {
   "cell_type": "code",
   "execution_count": null,
   "metadata": {
    "id": "6Khr9qm0RdDt"
   },
   "outputs": [],
   "source": [
    "#regression_results(test_labels, MLPR1_predict)"
   ]
  },
  {
   "cell_type": "markdown",
   "metadata": {
    "id": "wngte1orRdDu"
   },
   "source": [
    "## Try using Dataset with Removed Duplicates"
   ]
  },
  {
   "cell_type": "markdown",
   "metadata": {
    "id": "HFbwPzFkRdDu"
   },
   "source": [
    "### Prep Data"
   ]
  },
  {
   "cell_type": "code",
   "execution_count": null,
   "metadata": {
    "id": "ZOrnQKkjRdDu"
   },
   "outputs": [],
   "source": [
    "# Define feature and target columns\n",
    "feature_col, target_cols = 'image', list(clean_train.drop('image', axis = 1).columns)\n",
    "\n",
    "# Fill NA's with mean of column\n",
    "clean_train[target_cols] = clean_train[target_cols].fillna(clean_train[target_cols].mean())\n",
    "\n",
    "# Specify image dimensions\n",
    "width  = 96\n",
    "height = 96\n",
    "channels = 1\n",
    "\n",
    "# Create image array in numpy (reshaped)\n",
    "clean_train_images = np.array(clean_train[feature_col].tolist(), dtype = 'float')\n",
    "clean_train_labels = clean_train[target_cols].to_numpy()\n",
    "\n",
    "# (Optional) Normalize?\n",
    "normalized_clean_images = clean_train_images/255\n",
    "\n",
    "# Prepare train-test split\n",
    "train_images2, test_images2, train_labels2, test_labels2 = train_test_split(normalized_clean_images, clean_train_labels, test_size=0.1, random_state=7)"
   ]
  },
  {
   "cell_type": "markdown",
   "metadata": {
    "id": "sd9pzIRPWM-R"
   },
   "source": [
    "## **Multiple Linear Regression**"
   ]
  },
  {
   "cell_type": "markdown",
   "metadata": {
    "id": "uaO0xUGwRdDv"
   },
   "source": [
    "### Try OLS"
   ]
  },
  {
   "cell_type": "code",
   "execution_count": null,
   "metadata": {
    "id": "n_gn8oKORdDv"
   },
   "outputs": [],
   "source": [
    "LR_1 = LinearRegression()\n",
    "LR_1_fit = LR_1.fit(train_images2, train_labels2)\n",
    "LR_1_predict = LR_1.predict(test_images2)"
   ]
  },
  {
   "cell_type": "code",
   "execution_count": null,
   "metadata": {
    "colab": {
     "base_uri": "https://localhost:8080/"
    },
    "id": "Hf0fhB1YRdDv",
    "outputId": "a7742eff-7401-4f6a-b0d3-869cc8e581f3"
   },
   "outputs": [],
   "source": [
    "regression_results(test_labels2, LR_1_predict)"
   ]
  },
  {
   "cell_type": "code",
   "execution_count": null,
   "metadata": {
    "id": "4w2l_crma-jn"
   },
   "outputs": [],
   "source": [
    "OLS_list.append({'dp_rm': r2(test_labels2, LR_1_predict)})"
   ]
  },
  {
   "cell_type": "markdown",
   "metadata": {
    "id": "t-NRluFVRdDw"
   },
   "source": [
    "### Try Ridge"
   ]
  },
  {
   "cell_type": "code",
   "execution_count": null,
   "metadata": {
    "id": "ixQc6X-cRdDw"
   },
   "outputs": [],
   "source": [
    "LR_2 = Ridge()\n",
    "LR_2_fit = LR_2.fit(train_images2, train_labels2)\n",
    "LR_2_predict = LR_2.predict(test_images2)"
   ]
  },
  {
   "cell_type": "code",
   "execution_count": null,
   "metadata": {},
   "outputs": [],
   "source": [
    "regression_results(test_labels2, LR_2_predict)"
   ]
  },
  {
   "cell_type": "code",
   "execution_count": null,
   "metadata": {
    "id": "DeX7UCZXbQLK"
   },
   "outputs": [],
   "source": [
    "ridge_list.append({'dp_rm': r2(test_labels2, LR_2_predict)})"
   ]
  },
  {
   "cell_type": "markdown",
   "metadata": {
    "id": "Hz6jbEdyRdDw"
   },
   "source": [
    "### Try Lasso"
   ]
  },
  {
   "cell_type": "code",
   "execution_count": null,
   "metadata": {
    "id": "acPluoUbRdDw"
   },
   "outputs": [],
   "source": [
    "LR_3 = Lasso()\n",
    "LR_3_fit = LR_3.fit(train_images2, train_labels2)\n",
    "LR_3_predict = LR_3_fit.predict(test_images2)"
   ]
  },
  {
   "cell_type": "code",
   "execution_count": null,
   "metadata": {
    "colab": {
     "base_uri": "https://localhost:8080/"
    },
    "id": "pMXCkIztRdDx",
    "outputId": "1af9ccca-12bf-44d3-86c6-1fa6694d65c9"
   },
   "outputs": [],
   "source": [
    "regression_results(test_labels2, LR_3_predict)"
   ]
  },
  {
   "cell_type": "code",
   "execution_count": null,
   "metadata": {
    "id": "r7XECFprbiFn"
   },
   "outputs": [],
   "source": [
    "lasso_list.append({'dp_rm': r2(test_labels2, LR_3_predict)})"
   ]
  },
  {
   "cell_type": "markdown",
   "metadata": {
    "id": "3SX_zT6cRdDx"
   },
   "source": [
    "### Try DT Regressor"
   ]
  },
  {
   "cell_type": "code",
   "execution_count": null,
   "metadata": {
    "id": "1_6OkUrORdDx"
   },
   "outputs": [],
   "source": [
    "DT2 = DecisionTreeRegressor()\n",
    "DT2_fit = DT2.fit(train_images2, train_labels2)\n",
    "DT2_predict = DT2.predict(test_images2)"
   ]
  },
  {
   "cell_type": "code",
   "execution_count": null,
   "metadata": {
    "colab": {
     "base_uri": "https://localhost:8080/"
    },
    "id": "YTluI0MkRdDx",
    "outputId": "7c65364f-0d07-473a-fb6c-597a913fc8d7"
   },
   "outputs": [],
   "source": [
    "regression_results(test_labels2, DT2_predict)"
   ]
  },
  {
   "cell_type": "code",
   "execution_count": null,
   "metadata": {
    "id": "zAB3VkArbv_m"
   },
   "outputs": [],
   "source": [
    "DT_list.append({'dp_rm': r2(test_labels2, DT2_predict)})"
   ]
  },
  {
   "cell_type": "markdown",
   "metadata": {
    "id": "QAGVAVjcRdDx"
   },
   "source": [
    "### Try KNN Regressor"
   ]
  },
  {
   "cell_type": "code",
   "execution_count": null,
   "metadata": {
    "id": "IBvft9QJRdDx"
   },
   "outputs": [],
   "source": [
    "KNR_1 = KNeighborsRegressor(n_neighbors = 5)\n",
    "KNR_1_fit = KNR_1.fit(train_images2, train_labels2)\n",
    "KNR_1_predict = KNR_1.predict(test_images2)"
   ]
  },
  {
   "cell_type": "code",
   "execution_count": null,
   "metadata": {
    "colab": {
     "base_uri": "https://localhost:8080/"
    },
    "id": "xd_VMbB9RdDy",
    "outputId": "50274fe2-765f-4e12-ea6e-4d2e4c2e0eb1"
   },
   "outputs": [],
   "source": [
    "regression_results(test_labels2, KNR_1_predict)"
   ]
  },
  {
   "cell_type": "code",
   "execution_count": null,
   "metadata": {
    "id": "-5gUlksVcvsh"
   },
   "outputs": [],
   "source": [
    "KNN_list.append({'dp_rm': r2(test_labels2, KNR_1_predict)})"
   ]
  },
  {
   "cell_type": "code",
   "execution_count": null,
   "metadata": {
    "id": "_QOoD4ohRdDy"
   },
   "outputs": [],
   "source": [
    "KNR_2 = KNeighborsRegressor(n_neighbors = 7)\n",
    "KNR_2_fit = KNR_2.fit(train_images2, train_labels2)\n",
    "KNR_2_predict = KNR_2.predict(test_images2)"
   ]
  },
  {
   "cell_type": "code",
   "execution_count": null,
   "metadata": {
    "colab": {
     "base_uri": "https://localhost:8080/"
    },
    "id": "EPDe4b5gRdDy",
    "outputId": "ad6eeae4-a6af-46a9-ddb2-3c9858e94fd8"
   },
   "outputs": [],
   "source": [
    "regression_results(test_labels2, KNR_2_predict)"
   ]
  },
  {
   "cell_type": "code",
   "execution_count": null,
   "metadata": {
    "id": "DKlvqIAsc-lD"
   },
   "outputs": [],
   "source": [
    "KNN_list1.append({'dp_rm': r2(test_labels2, KNR_2_predict)})"
   ]
  },
  {
   "cell_type": "markdown",
   "metadata": {},
   "source": [
    "### Try Random Forest Regression"
   ]
  },
  {
   "cell_type": "code",
   "execution_count": null,
   "metadata": {},
   "outputs": [],
   "source": [
    "RF2 = RandomForestRegressor(n_estimators=5)\n",
    "RF2_fit = RF2.fit(train_images2, train_labels2)\n",
    "RF2_predict = RF2_fit.predict(test_images2)"
   ]
  },
  {
   "cell_type": "code",
   "execution_count": null,
   "metadata": {},
   "outputs": [],
   "source": [
    "regression_results(test_labels2, RF2_predict)"
   ]
  },
  {
   "cell_type": "code",
   "execution_count": null,
   "metadata": {},
   "outputs": [],
   "source": [
    "RF_list.append({'dp_rm': r2(test_labels2, RF2_predict)})"
   ]
  },
  {
   "cell_type": "markdown",
   "metadata": {
    "id": "-PHiL5rgRdDy"
   },
   "source": [
    "## Using Augmented Data"
   ]
  },
  {
   "cell_type": "code",
   "execution_count": null,
   "metadata": {
    "id": "t4P5hESvq0XR"
   },
   "outputs": [],
   "source": [
    "# Define feature and target columns\n",
    "feature_col, target_cols = 'image', list(augmented_data.columns)\n",
    "\n",
    "# Specify image dimensions\n",
    "width  = 96\n",
    "height = 96\n",
    "channels = 1\n",
    "\n",
    "# Fill NA's with mean of column\n",
    "augmented_data = augmented_data.fillna(augmented_data.mean())\n",
    "\n",
    "# Create label array\n",
    "aug_train_labels = augmented_data.to_numpy()\n",
    "\n",
    "# Prepare train-test split\n",
    "train_images3, test_images3, train_labels3, test_labels3 = train_test_split(normalized_train_images, aug_train_labels, test_size=0.1, random_state=7)"
   ]
  },
  {
   "cell_type": "code",
   "execution_count": null,
   "metadata": {
    "colab": {
     "base_uri": "https://localhost:8080/"
    },
    "id": "nq3LzJi2RdD0",
    "outputId": "e548ee11-0322-4952-b6f1-eb6aba35ff64"
   },
   "outputs": [],
   "source": [
    "print(train_images3.shape)\n",
    "print(test_images3.shape)\n",
    "print(train_labels3.shape)\n",
    "print(test_images3.shape)"
   ]
  },
  {
   "cell_type": "code",
   "execution_count": null,
   "metadata": {},
   "outputs": [],
   "source": [
    "augmented_data.shape"
   ]
  },
  {
   "cell_type": "code",
   "execution_count": null,
   "metadata": {},
   "outputs": [],
   "source": [
    "train_data.shape"
   ]
  },
  {
   "cell_type": "markdown",
   "metadata": {
    "id": "uNnlkj7DRdD0"
   },
   "source": [
    "### Try OLS"
   ]
  },
  {
   "cell_type": "code",
   "execution_count": null,
   "metadata": {
    "id": "dE1t-wCARdD0"
   },
   "outputs": [],
   "source": [
    "LR_1_2 = LinearRegression()\n",
    "LR_1_2_fit = LR_1_2.fit(train_images3, train_labels3)\n",
    "LR_1_2_predict = LR_1_2_fit.predict(test_images3)"
   ]
  },
  {
   "cell_type": "code",
   "execution_count": null,
   "metadata": {
    "colab": {
     "base_uri": "https://localhost:8080/"
    },
    "id": "F0-SHPDwRdD1",
    "outputId": "e613bf88-a61f-4d96-cee0-6606bd788e41"
   },
   "outputs": [],
   "source": [
    "regression_results(test_labels3, LR_1_2_predict)"
   ]
  },
  {
   "cell_type": "code",
   "execution_count": null,
   "metadata": {
    "id": "5VFdCy3leRWB"
   },
   "outputs": [],
   "source": [
    "OLS_list.append({'reg_m': r2(test_labels3, LR_1_2_predict)})"
   ]
  },
  {
   "cell_type": "markdown",
   "metadata": {
    "id": "8Ruf_l3HRdD1"
   },
   "source": [
    "### Try Ridge"
   ]
  },
  {
   "cell_type": "code",
   "execution_count": null,
   "metadata": {
    "id": "_1t2qblxRdD1"
   },
   "outputs": [],
   "source": [
    "LR_2_2 = Ridge()\n",
    "LR_2_2_fit = LR_2_2.fit(train_images3, train_labels3)\n",
    "LR_2_2_predict = LR_2_2_fit.predict(test_images3)"
   ]
  },
  {
   "cell_type": "code",
   "execution_count": null,
   "metadata": {
    "id": "bek6LrZ_hK21"
   },
   "outputs": [],
   "source": [
    "ridge_list.append({'reg_m': r2(test_labels3, LR_2_2_predict)})"
   ]
  },
  {
   "cell_type": "markdown",
   "metadata": {
    "id": "n-V-nD_gRdD2"
   },
   "source": [
    "### Try Lasso"
   ]
  },
  {
   "cell_type": "code",
   "execution_count": null,
   "metadata": {
    "id": "Ge2D1F5BRdD2"
   },
   "outputs": [],
   "source": [
    "LR_3_2 = Lasso()\n",
    "LR_3_2_fit = LR_3_2.fit(train_images3, train_labels3)\n",
    "LR_3_2_predict = LR_3_2_fit.predict(test_images3)"
   ]
  },
  {
   "cell_type": "code",
   "execution_count": null,
   "metadata": {
    "colab": {
     "base_uri": "https://localhost:8080/"
    },
    "id": "kdvq7ooNRdD2",
    "outputId": "95093465-1fba-47ff-ad84-d3537efcb131"
   },
   "outputs": [],
   "source": [
    "regression_results(test_labels3, LR_3_2_predict)"
   ]
  },
  {
   "cell_type": "code",
   "execution_count": null,
   "metadata": {
    "id": "Wi-e37AvhZ3B"
   },
   "outputs": [],
   "source": [
    "lasso_list.append({'reg_m': r2(test_labels3, LR_3_2_predict)})"
   ]
  },
  {
   "cell_type": "code",
   "execution_count": null,
   "metadata": {},
   "outputs": [],
   "source": [
    "lasso_list"
   ]
  },
  {
   "cell_type": "markdown",
   "metadata": {
    "id": "4GeL_LCaRdD3"
   },
   "source": [
    "### Try DT Regressor"
   ]
  },
  {
   "cell_type": "code",
   "execution_count": null,
   "metadata": {
    "id": "ZSqXAN-uRdD3"
   },
   "outputs": [],
   "source": [
    "DT3 = DecisionTreeRegressor()\n",
    "DT3_fit = DT3.fit(train_images3, train_labels3)\n",
    "DT3_predict = DT3_fit.predict(test_images3)"
   ]
  },
  {
   "cell_type": "code",
   "execution_count": null,
   "metadata": {
    "colab": {
     "base_uri": "https://localhost:8080/"
    },
    "id": "HqJ5RFWFRdD3",
    "outputId": "2df9cc63-c51a-4cac-f6b3-59ee81a6bbaf"
   },
   "outputs": [],
   "source": [
    "regression_results(test_labels3, DT3_predict)"
   ]
  },
  {
   "cell_type": "code",
   "execution_count": null,
   "metadata": {
    "id": "eNIaBcrohfZr"
   },
   "outputs": [],
   "source": [
    "DT_list.append({'reg_m': r2(test_labels3, DT3_predict)})"
   ]
  },
  {
   "cell_type": "markdown",
   "metadata": {
    "id": "McbP7tPrRdD3"
   },
   "source": [
    "### Try KNN Regressor"
   ]
  },
  {
   "cell_type": "code",
   "execution_count": null,
   "metadata": {
    "id": "bM-_Df0MRdD4"
   },
   "outputs": [],
   "source": [
    "KNR_1_2 = KNeighborsRegressor(n_neighbors = 5)\n",
    "KNR_1_2_fit = KNR_1_2.fit(train_images3, train_labels3)\n",
    "KNR_1_2_predict = KNR_1_2_fit.predict(test_images3)"
   ]
  },
  {
   "cell_type": "code",
   "execution_count": null,
   "metadata": {
    "colab": {
     "base_uri": "https://localhost:8080/"
    },
    "id": "1RMudrC2RdD4",
    "outputId": "01642d54-ff27-4716-c691-5b4e7e5bad3e"
   },
   "outputs": [],
   "source": [
    "regression_results(test_labels3, KNR_1_2_predict)"
   ]
  },
  {
   "cell_type": "code",
   "execution_count": null,
   "metadata": {
    "id": "Paavy2nfhpwj"
   },
   "outputs": [],
   "source": [
    "KNN_list.append({'reg_m': r2(test_labels3, KNR_1_2_predict)})"
   ]
  },
  {
   "cell_type": "code",
   "execution_count": null,
   "metadata": {
    "id": "aUrOfTt-RdD4"
   },
   "outputs": [],
   "source": [
    "KNR_1_3 = KNeighborsRegressor(n_neighbors = 7)\n",
    "KNR_1_3_fit = KNR_1_3.fit(train_images3, train_labels3)\n",
    "KNR_1_3_predict = KNR_1_3_fit.predict(test_images3)"
   ]
  },
  {
   "cell_type": "code",
   "execution_count": null,
   "metadata": {
    "colab": {
     "base_uri": "https://localhost:8080/"
    },
    "id": "RAcDKsS1RdD4",
    "outputId": "09768c0c-f557-4c38-a26b-83d8ff87b3b2"
   },
   "outputs": [],
   "source": [
    "regression_results(test_labels3, KNR_1_3_predict)"
   ]
  },
  {
   "cell_type": "code",
   "execution_count": null,
   "metadata": {
    "id": "G7YjeoCxRdD5"
   },
   "outputs": [],
   "source": [
    "KNN_list1.append({'reg_m': r2(test_labels3, KNR_1_3_predict)})"
   ]
  },
  {
   "cell_type": "markdown",
   "metadata": {},
   "source": [
    "### Try Random Forest Regression"
   ]
  },
  {
   "cell_type": "code",
   "execution_count": null,
   "metadata": {},
   "outputs": [],
   "source": [
    "RF3 = RandomForestRegressor(n_estimators=5)\n",
    "RF3_fit = RF3.fit(train_images3, train_labels3)\n",
    "RF3_predict = RF3_fit.predict(test_images3)"
   ]
  },
  {
   "cell_type": "code",
   "execution_count": null,
   "metadata": {},
   "outputs": [],
   "source": [
    "regression_results(test_labels3, RF3_predict)"
   ]
  },
  {
   "cell_type": "code",
   "execution_count": null,
   "metadata": {},
   "outputs": [],
   "source": [
    "RF_list.append({'reg_m': r2(test_labels3, RF3_predict)})"
   ]
  },
  {
   "cell_type": "markdown",
   "metadata": {},
   "source": [
    "## Graph Performance Metrics"
   ]
  },
  {
   "cell_type": "code",
   "execution_count": null,
   "metadata": {
    "colab": {
     "base_uri": "https://localhost:8080/"
    },
    "id": "Ncs4jJ7ih2n3",
    "outputId": "e0d52672-892f-4820-e0cb-cdea766467b0"
   },
   "outputs": [],
   "source": [
    "print(OLS_list)\n",
    "print(ridge_list)\n",
    "print(lasso_list)\n",
    "print(DT_list)\n",
    "print(KNN_list)\n",
    "print(KNN_list1)\n",
    "print(RF_list)"
   ]
  },
  {
   "cell_type": "code",
   "execution_count": null,
   "metadata": {},
   "outputs": [],
   "source": [
    "master = {\"OLS Performance\": OLS_list, \"Ridge Performance\": ridge_list, \"Lasso Performance\": lasso_list,\n",
    "         \"DTR Performance\": DT_list, \"KNNR(5) Performance\": KNN_list, \"KNNR(7) Performance\": KNN_list1,\n",
    "         \"RFR Performance\": RF_list}"
   ]
  },
  {
   "cell_type": "code",
   "execution_count": null,
   "metadata": {
    "id": "TeSJmsRVqD3u"
   },
   "outputs": [],
   "source": [
    "# Plot some graphs\n",
    "\n",
    "def plot_performance(master):\n",
    "    for key, value in master.items():\n",
    "        fig, ax = plt.subplots(figsize=(7,4))\n",
    "        ax.set_title(key)\n",
    "        ax.set_xlabel(\"Data Type\")\n",
    "        ax.set_ylabel(\"R squared\")\n",
    "        for item in value:\n",
    "            ax.bar(list(item.keys()), list(item.values()))\n",
    "\n",
    "    return"
   ]
  },
  {
   "cell_type": "code",
   "execution_count": null,
   "metadata": {},
   "outputs": [],
   "source": [
    "plot_performance(master)"
   ]
  }
 ],
 "metadata": {
  "colab": {
   "name": "initial_models.ipynb",
   "provenance": []
  },
  "environment": {
   "name": "tf2-gpu.2-4.m65",
   "type": "gcloud",
   "uri": "gcr.io/deeplearning-platform-release/tf2-gpu.2-4:m65"
  },
  "kernelspec": {
   "display_name": "Python 3",
   "language": "python",
   "name": "python3"
  },
  "language_info": {
   "codemirror_mode": {
    "name": "ipython",
    "version": 3
   },
   "file_extension": ".py",
   "mimetype": "text/x-python",
   "name": "python",
   "nbconvert_exporter": "python",
   "pygments_lexer": "ipython3",
   "version": "3.7.7"
  }
 },
 "nbformat": 4,
 "nbformat_minor": 1
}
