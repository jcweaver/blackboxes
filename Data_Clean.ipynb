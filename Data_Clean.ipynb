{
 "cells": [
  {
   "cell_type": "markdown",
   "metadata": {},
   "source": [
    "# Data Cleaning File"
   ]
  },
  {
   "cell_type": "markdown",
   "metadata": {},
   "source": [
    "## Setup\n",
    "Imports, reading in files, etc.."
   ]
  },
  {
   "cell_type": "code",
   "execution_count": null,
   "metadata": {},
   "outputs": [],
   "source": [
    "import pandas as pd\n",
    "import numpy as np\n",
    "import os\n",
    "import warnings\n",
    "\n",
    "from tqdm import tqdm\n",
    "import zlib\n",
    "\n",
    "import matplotlib.pyplot as plt\n",
    "import matplotlib.image as mpimg\n",
    "from matplotlib import rc\n",
    "from matplotlib.ticker import PercentFormatter\n",
    "import pickle\n"
   ]
  },
  {
   "cell_type": "code",
   "execution_count": null,
   "metadata": {},
   "outputs": [],
   "source": [
    "#Load the pickle files\n",
    "\n",
    "train = pickle.load( open( \"data/train.p\", \"rb\" ) )\n",
    "test = pickle.load( open(\"data/test.p\", \"rb\"))\n",
    "\n",
    "train.rename(columns = {'level_0' : 'index'}, inplace = True)\n",
    "\n",
    "train_duplicates = pickle.load( open(\"data/traindup.p\", \"rb\"))\n",
    "test_duplicates = pickle.load( open(\"data/testdup.p\", \"rb\"))\n",
    "\n",
    "train_duplicates.set_index('index', inplace=True, drop=False)\n",
    "print(\"Test shape is: \", test.shape)\n",
    "print(\"Train shape is: \", train.shape)\n",
    "\n",
    "print(\"Test duplicates shape is: \", test_duplicates.shape)\n",
    "print(\"Train duplicates shape is: \", train_duplicates.shape)\n"
   ]
  },
  {
   "cell_type": "code",
   "execution_count": null,
   "metadata": {},
   "outputs": [],
   "source": [
    "#HELPER FUNCTIONS to reset the train and test dataframes\n",
    "\n",
    "def reset_train_df():\n",
    "    #train = df['train'].reset_index().copy()\n",
    "    new_train = train.reset_index().copy()\n",
    "    #Get the images and perform a checksum on every image in train: https://www.geeksforgeeks.org/zlib-adler32-in-python/\n",
    "    new_train['check_sum'] = train.image.map(lambda x: zlib.adler32(x))\n",
    "    new_train.pop('level_0')\n",
    "    return new_train\n",
    "\n",
    "def reset_test_df():\n",
    "    #test = df['test'].reset_index().copy()\n",
    "    new_test = test.reset_index().copy()\n",
    "    #Get the images and perform a checksum on every image in train: https://www.geeksforgeeks.org/zlib-adler32-in-python/\n",
    "    new_test['check_sum'] = test.image.map(lambda x: zlib.adler32(x))\n",
    "    new_test.pop('level_0')\n",
    "    return new_test\n",
    "\n",
    "def get_coordinate_columns():\n",
    "    coordinates = [c for c in train.columns if c.endswith('_x') | c.endswith('_y')]\n",
    "    return coordinates"
   ]
  },
  {
   "cell_type": "code",
   "execution_count": null,
   "metadata": {},
   "outputs": [],
   "source": [
    "#Creating a copy of the train data in train_data in case you want to add columns back in from df[train]\n",
    "train_data=train.copy(deep=True)\n",
    "train_data"
   ]
  },
  {
   "cell_type": "markdown",
   "metadata": {},
   "source": [
    "## Outlier Identification\n",
    "As we saw in the EDA, there are a variety of types of images with a variety of keypoints. Below, we will remove some of the images we saw as outliers in the EDA.\n",
    "\n",
    "Outlier types:\n",
    "- Mislabelled images\n",
    "- Weird/bad images\n",
    "- All outliers (i.e. images that contain keypoints that are greater than 3 standard deviations away from the mean for that keypoint)"
   ]
  },
  {
   "cell_type": "code",
   "execution_count": null,
   "metadata": {},
   "outputs": [],
   "source": [
    "#CODE CELL FOR JOANIE\n",
    "\n",
    "#This block is identifying and counting all outliers\n",
    "#Outliers are images that contain keypoints > 3std from mean\n",
    "def find_outliers():\n",
    "    train=train_data.drop([\"image\"],axis=1)\n",
    "    described_train=train.describe().T\n",
    "    std=described_train[\"std\"]\n",
    "    mean=described_train[\"mean\"]\n",
    "    q1=described_train[\"25%\"]\n",
    "    q3=described_train[\"75%\"]\n",
    "    iqr=q3-q1\n",
    "\n",
    "    #If we define outliers using IQR\n",
    "    #outlier_low=q1-1.5*iqr\n",
    "    #outlier_high=q3+1.5*iqr\n",
    "\n",
    "    #If we define outliers using std\n",
    "    outlier_low=mean-3*std\n",
    "    outlier_high=mean+3*std\n",
    "\n",
    "\n",
    "\n",
    "    #Keep track of these images in a list\n",
    "    outlier_images=[]\n",
    "    outlier_dict={}\n",
    "\n",
    "    #Iterate through the data to find outliers based on whether they are lower/higher than defined outlier boundaries\n",
    "    for col in train.columns:\n",
    "        indices=list(np.where((train[col] < outlier_low[col]) | (train[col] > outlier_high[col]))[0])\n",
    "        outlier_images.extend(indices)\n",
    "        for i in indices:\n",
    "            temp=outlier_dict.get(i,[])\n",
    "            temp.append(col[:-1])\n",
    "            outlier_dict[i]=temp\n",
    "\n",
    "    #Only count each index once\n",
    "    outliers=np.unique(outlier_images)\n",
    "    outliers\n",
    "    print(\"Finding points 3 standard deviations away from the mean results in \",len(outliers),\n",
    "        \"images being classified as outliers\")\n",
    "    print(\"This represents\",len(outliers)/train.shape[0]*100,\"% of our total data\")\n",
    "\n",
    "    print(train.shape)\n",
    "    \n",
    "    return outliers\n",
    "\n",
    "\n"
   ]
  },
  {
   "cell_type": "code",
   "execution_count": null,
   "metadata": {},
   "outputs": [],
   "source": [
    "#CODE CELL FOR JOANIE\n",
    "\n",
    "#This function is removing the worst outliers\n",
    "#The worst outliers are the mislabelled images and the weird/bad images\n",
    "def drop_worst_outliers():\n",
    "\n",
    "    print(\"Before dropping worst outliers train shape is: \", train.shape)\n",
    "    print(\"Before dropping worst outliers train duplicates shape is: \", train_duplicates.shape)\n",
    "    miss_labelled = [1747, 1877, 1907,2199] #These are the images with keypoints that are not right\n",
    "    bad_images = [6492,6493,2430,3697] #These are the two collages and the two cartoons\n",
    "\n",
    "    worst_outliers = miss_labelled + bad_images\n",
    "\n",
    "    #Drop with inplace drops inplace\n",
    "    #train_data.drop(index=worst_outliers,inplace=True)\n",
    "    train.drop(index=worst_outliers,inplace=True,errors='ignore')\n",
    "    train_duplicates.drop(index=worst_outliers,inplace=True,errors='ignore')\n",
    "    print(\"After dropping worst outliers train shape is: \", train.shape)\n",
    "    print(\"After dropping worst outliers train duplicates shape is: \", train_duplicates.shape)\n",
    "\n",
    "#This function is for removing all outliers as defined above\n",
    "def drop_all_outliers():\n",
    "    print(\"Before dropping all outliers train shape is: \", train.shape)\n",
    "    print(train.shape)\n",
    "    outliers = find_outliers()\n",
    "    train.drop(index=outliers,inplace=True, errors='ignore')\n",
    "    train_duplicates.drop(index=worst_outliers,inplace=True,errors='ignore')\n",
    "    print(\"After dropping all outliers train shape is: \", train.shape)\n",
    "\n",
    "\n",
    "\n"
   ]
  },
  {
   "cell_type": "markdown",
   "metadata": {},
   "source": [
    "## Helper Code for Duplicate Data in Train and Test datasets"
   ]
  },
  {
   "cell_type": "code",
   "execution_count": null,
   "metadata": {},
   "outputs": [],
   "source": [
    "#CODE CELL FOR JACKIE\n",
    "# Remove duplicates in the train dataset by taking the mean of all values for that image in each label \n",
    "def remove_train_duplicates(verbose=True):\n",
    "    # First let's reset the index since we've been working on the df \n",
    "        \n",
    "    train = reset_train_df()\n",
    "    #train_duplicates.reset_index()\n",
    "\n",
    "    #Get all of the coordinates\n",
    "    coordinates = get_coordinate_columns()\n",
    "\n",
    "    #Create an empty df with the coordinate columns in place\n",
    "    final_images = train[(train.index == -1)][coordinates].copy()\n",
    "\n",
    "    #For each unique check_sum in duplicates...\n",
    "    for check_sum in train_duplicates.check_sum.unique():\n",
    "        #Get all of the duplicates with the same check_sum\n",
    "        duplicates = train_duplicates[(train_duplicates.check_sum == check_sum)]['index'].values\n",
    "        \n",
    "        #Get the first image that appears in the train dataset with this check_sum\n",
    "        image = train[(train['index'].isin(duplicates))].image.values[0]\n",
    "        #Take the mean of all the coordinate columns - this is what we will use for the final single image\n",
    "        fixed = pd.DataFrame(pd.DataFrame(train[(train['index'].isin(duplicates))], columns=coordinates).mean(axis = 0)).T\n",
    "        #Make sure to include the actual image (lol)\n",
    "        fixed['image'] = [image]\n",
    "        #Append it to the list of final_images\n",
    "        final_images = final_images.append(fixed, ignore_index = True)\n",
    "        \n",
    "        \n",
    "    #For reporting purposes: \n",
    "    if verbose: print(\"=\"*13 + \"Train\" + \"=\"*13)\n",
    "    if verbose: print(\"Before delete:     %s\" % str(train.shape))\n",
    "\n",
    "    #Remove the duplicates from train - danger, danger, must replace them\n",
    "    train = train[~(train['index'].isin(train_duplicates['index'].values))]\n",
    "    if verbose: print(\"After  delete:     %s\" % str(train.shape))\n",
    "\n",
    "    #Replace removed duplicates with final_images\n",
    "    train = train.append(final_images, ignore_index = True).reset_index()\n",
    "    train.drop(columns=['index'], inplace = True)\n",
    "    if verbose: print(\"After  append:     %s\" % str(train.shape))\n",
    "    return train\n",
    "\n"
   ]
  },
  {
   "cell_type": "code",
   "execution_count": null,
   "metadata": {},
   "outputs": [],
   "source": [
    "#CODE CELL FOR JACKIE\n",
    "##########Test Data set\n",
    "\n",
    "#Now do the same for test, this will be easier since we don't need\n",
    "#to deal with points and taking the mean\n",
    "def remove_test_duplicates(verbose=True):\n",
    "#We can do this differently since we don't need to take the mean. \n",
    "#Go through the test and only add items to the final test image if\n",
    "#we do not already have the check_sum. If we find the check_sum, don't\n",
    "#add it it's a duplicate. \n",
    "    test = reset_test_df()\n",
    "    if verbose: print(\"=\"*13 + \"Test=\" + \"=\"*13)\n",
    "    if verbose: print(\"Before delete:     %s\" % str(test.shape))\n",
    "    test = reset_test_df()\n",
    "    #Create an empty df with the coordinate columns in place\n",
    "    final_test_images = test[(test.index == -1)]\n",
    "    \n",
    "    for test_index, check_sum in zip(test['index'], test.check_sum):\n",
    "        if not (check_sum in list(final_test_images.check_sum.values)):\n",
    "            final_test_images = final_test_images.append(test.loc[(test['index'] == test_index)], ignore_index = True)\n",
    "    \n",
    "    if verbose: print(\"After  delete:     %s\" % str(final_test_images.shape))\n",
    "    return final_test_images\n"
   ]
  },
  {
   "cell_type": "markdown",
   "metadata": {},
   "source": [
    "## Remove worst outliers"
   ]
  },
  {
   "cell_type": "code",
   "execution_count": null,
   "metadata": {},
   "outputs": [],
   "source": [
    "#CODE CELL FOR JOANIE\n",
    "#only drop the worst outliers for now\n",
    "drop_worst_outliers()"
   ]
  },
  {
   "cell_type": "markdown",
   "metadata": {},
   "source": [
    "## Remove duplicates"
   ]
  },
  {
   "cell_type": "code",
   "execution_count": null,
   "metadata": {},
   "outputs": [],
   "source": [
    "#CODE CELL FOR JACKIE\n",
    "print(\"Applying EDA fix for duplicates\")\n",
    "print()\n",
    "train = remove_train_duplicates()\n",
    "print()\n",
    "test = remove_test_duplicates()"
   ]
  },
  {
   "cell_type": "markdown",
   "metadata": {},
   "source": [
    "## Save Clean Data to a Pickle file"
   ]
  },
  {
   "cell_type": "code",
   "execution_count": null,
   "metadata": {},
   "outputs": [],
   "source": [
    "#CODE CELL FOR JACKIE\n",
    "print(train.shape)\n",
    "print(test.shape)\n",
    "#Pickle train and test so that we can jump in with cleaning this data\n",
    "pickle.dump( train, open( \"data/clean_train.p\", \"wb\" ) )\n",
    "pickle.dump(test, open( \"data/clean_test.p\", \"wb\" ))\n"
   ]
  },
  {
   "cell_type": "code",
   "execution_count": null,
   "metadata": {},
   "outputs": [],
   "source": []
  }
 ],
 "metadata": {
  "kernelspec": {
   "display_name": "Python 3",
   "language": "python",
   "name": "python3"
  },
  "language_info": {
   "codemirror_mode": {
    "name": "ipython",
    "version": 3
   },
   "file_extension": ".py",
   "mimetype": "text/x-python",
   "name": "python",
   "nbconvert_exporter": "python",
   "pygments_lexer": "ipython3",
   "version": "3.8.3"
  }
 },
 "nbformat": 4,
 "nbformat_minor": 4
}
